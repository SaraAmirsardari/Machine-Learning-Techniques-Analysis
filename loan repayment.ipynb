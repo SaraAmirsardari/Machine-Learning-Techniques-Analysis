{
 "cells": [
  {
   "cell_type": "code",
   "execution_count": 1,
   "metadata": {},
   "outputs": [],
   "source": [
    "import numpy as np\n",
    "import pandas as pd\n",
    "import seaborn as sns\n",
    "import matplotlib.pyplot as plt\n",
    "from sklearn import model_selection\n",
    "from sklearn.model_selection import train_test_split, cross_val_score\n",
    "from sklearn.preprocessing import StandardScaler\n",
    "from sklearn import tree\n",
    "from sklearn.tree import DecisionTreeClassifier\n",
    "from sklearn.ensemble import RandomForestClassifier, BaggingClassifier, AdaBoostClassifier, VotingClassifier\n",
    "from sklearn.neighbors import KNeighborsClassifier\n",
    "from sklearn.linear_model import LogisticRegression\n",
    "from sklearn import svm\n",
    "from sklearn.svm import SVC\n",
    "from sklearn.neural_network import MLPClassifier\n",
    "from sklearn.naive_bayes import GaussianNB\n",
    "from sklearn.datasets.samples_generator import make_blobs\n",
    "from sklearn.metrics import confusion_matrix,accuracy_score, classification_report, f1_score, precision_recall_curve\n",
    "from sklearn.discriminant_analysis import QuadraticDiscriminantAnalysis\n",
    "from sklearn.linear_model import SGDClassifier\n",
    "from sklearn.datasets import make_classification\n",
    "from sklearn.metrics import roc_curve, roc_auc_score,auc\n",
    "from sklearn.feature_selection import VarianceThreshold,mutual_info_classif,mutual_info_regression\n",
    "import matplotlib.pyplot as plt\n",
    "from sklearn.feature_selection import SelectFromModel,SelectKBest,SelectPercentile\n",
    "from sklearn import preprocessing \n",
    "from sklearn.preprocessing import MinMaxScaler "
   ]
  },
  {
   "cell_type": "code",
   "execution_count": 2,
   "metadata": {},
   "outputs": [],
   "source": [
    "#loading data file\n",
    "#dataset source:https://www.kaggle.com/kennykozak/loan-repayment-prediction\n",
    "fullFileName='C:/Users/SARA/Desktop/D I C/9351/travail pratique 1/dataset/loan_data_final.csv'\n",
    "balance_data=pd.read_csv(fullFileName, sep=',', header=0)"
   ]
  },
  {
   "cell_type": "code",
   "execution_count": 3,
   "metadata": {},
   "outputs": [
    {
     "name": "stdout",
     "output_type": "stream",
     "text": [
      "Dataset Lenght::  9578\n"
     ]
    },
    {
     "data": {
      "text/plain": [
       "credit.policy        0\n",
       "purpose              0\n",
       "int.rate             0\n",
       "installment          0\n",
       "log.annual.inc       0\n",
       "dti                  0\n",
       "fico                 0\n",
       "days.with.cr.line    0\n",
       "revol.bal            0\n",
       "revol.util           0\n",
       "inq.last.6mths       0\n",
       "delinq.2yrs          0\n",
       "pub.rec              0\n",
       "not.fully.paid       0\n",
       "dtype: int64"
      ]
     },
     "execution_count": 3,
     "metadata": {},
     "output_type": "execute_result"
    }
   ],
   "source": [
    "print(\"Dataset Lenght:: \",len(balance_data))\n",
    "#first we count the number of missing values in each row in pandas dataframe\n",
    "balance_data.isnull().sum(axis=0)"
   ]
  },
  {
   "cell_type": "code",
   "execution_count": 4,
   "metadata": {},
   "outputs": [
    {
     "name": "stdout",
     "output_type": "stream",
     "text": [
      "Dataset shape::  (9578, 14)\n"
     ]
    }
   ],
   "source": [
    "print(\"Dataset shape:: \", balance_data.shape)"
   ]
  },
  {
   "cell_type": "code",
   "execution_count": 5,
   "metadata": {},
   "outputs": [
    {
     "name": "stdout",
     "output_type": "stream",
     "text": [
      "Dataset:: \n",
      "<class 'pandas.core.frame.DataFrame'>\n",
      "RangeIndex: 9578 entries, 0 to 9577\n",
      "Data columns (total 14 columns):\n",
      "credit.policy        9578 non-null int64\n",
      "purpose              9578 non-null object\n",
      "int.rate             9578 non-null float64\n",
      "installment          9578 non-null float64\n",
      "log.annual.inc       9578 non-null float64\n",
      "dti                  9578 non-null float64\n",
      "fico                 9578 non-null int64\n",
      "days.with.cr.line    9578 non-null float64\n",
      "revol.bal            9578 non-null int64\n",
      "revol.util           9578 non-null float64\n",
      "inq.last.6mths       9578 non-null int64\n",
      "delinq.2yrs          9578 non-null int64\n",
      "pub.rec              9578 non-null int64\n",
      "not.fully.paid       9578 non-null int64\n",
      "dtypes: float64(6), int64(7), object(1)\n",
      "memory usage: 1.0+ MB\n"
     ]
    },
    {
     "data": {
      "text/html": [
       "<div>\n",
       "<style scoped>\n",
       "    .dataframe tbody tr th:only-of-type {\n",
       "        vertical-align: middle;\n",
       "    }\n",
       "\n",
       "    .dataframe tbody tr th {\n",
       "        vertical-align: top;\n",
       "    }\n",
       "\n",
       "    .dataframe thead th {\n",
       "        text-align: right;\n",
       "    }\n",
       "</style>\n",
       "<table border=\"1\" class=\"dataframe\">\n",
       "  <thead>\n",
       "    <tr style=\"text-align: right;\">\n",
       "      <th></th>\n",
       "      <th>credit.policy</th>\n",
       "      <th>int.rate</th>\n",
       "      <th>installment</th>\n",
       "      <th>log.annual.inc</th>\n",
       "      <th>dti</th>\n",
       "      <th>fico</th>\n",
       "      <th>days.with.cr.line</th>\n",
       "      <th>revol.bal</th>\n",
       "      <th>revol.util</th>\n",
       "      <th>inq.last.6mths</th>\n",
       "      <th>delinq.2yrs</th>\n",
       "      <th>pub.rec</th>\n",
       "      <th>not.fully.paid</th>\n",
       "    </tr>\n",
       "  </thead>\n",
       "  <tbody>\n",
       "    <tr>\n",
       "      <td>count</td>\n",
       "      <td>9578.000000</td>\n",
       "      <td>9578.000000</td>\n",
       "      <td>9578.000000</td>\n",
       "      <td>9578.000000</td>\n",
       "      <td>9578.000000</td>\n",
       "      <td>9578.000000</td>\n",
       "      <td>9578.000000</td>\n",
       "      <td>9.578000e+03</td>\n",
       "      <td>9578.000000</td>\n",
       "      <td>9578.000000</td>\n",
       "      <td>9578.000000</td>\n",
       "      <td>9578.000000</td>\n",
       "      <td>9578.000000</td>\n",
       "    </tr>\n",
       "    <tr>\n",
       "      <td>mean</td>\n",
       "      <td>0.804970</td>\n",
       "      <td>0.122640</td>\n",
       "      <td>319.089413</td>\n",
       "      <td>10.932117</td>\n",
       "      <td>12.606679</td>\n",
       "      <td>710.846314</td>\n",
       "      <td>4560.767197</td>\n",
       "      <td>1.691396e+04</td>\n",
       "      <td>46.799236</td>\n",
       "      <td>1.577469</td>\n",
       "      <td>0.163708</td>\n",
       "      <td>0.062122</td>\n",
       "      <td>0.160054</td>\n",
       "    </tr>\n",
       "    <tr>\n",
       "      <td>std</td>\n",
       "      <td>0.396245</td>\n",
       "      <td>0.026847</td>\n",
       "      <td>207.071301</td>\n",
       "      <td>0.614813</td>\n",
       "      <td>6.883970</td>\n",
       "      <td>37.970537</td>\n",
       "      <td>2496.930377</td>\n",
       "      <td>3.375619e+04</td>\n",
       "      <td>29.014417</td>\n",
       "      <td>2.200245</td>\n",
       "      <td>0.546215</td>\n",
       "      <td>0.262126</td>\n",
       "      <td>0.366676</td>\n",
       "    </tr>\n",
       "    <tr>\n",
       "      <td>min</td>\n",
       "      <td>0.000000</td>\n",
       "      <td>0.060000</td>\n",
       "      <td>15.670000</td>\n",
       "      <td>7.547502</td>\n",
       "      <td>0.000000</td>\n",
       "      <td>612.000000</td>\n",
       "      <td>178.958333</td>\n",
       "      <td>0.000000e+00</td>\n",
       "      <td>0.000000</td>\n",
       "      <td>0.000000</td>\n",
       "      <td>0.000000</td>\n",
       "      <td>0.000000</td>\n",
       "      <td>0.000000</td>\n",
       "    </tr>\n",
       "    <tr>\n",
       "      <td>25%</td>\n",
       "      <td>1.000000</td>\n",
       "      <td>0.103900</td>\n",
       "      <td>163.770000</td>\n",
       "      <td>10.558414</td>\n",
       "      <td>7.212500</td>\n",
       "      <td>682.000000</td>\n",
       "      <td>2820.000000</td>\n",
       "      <td>3.187000e+03</td>\n",
       "      <td>22.600000</td>\n",
       "      <td>0.000000</td>\n",
       "      <td>0.000000</td>\n",
       "      <td>0.000000</td>\n",
       "      <td>0.000000</td>\n",
       "    </tr>\n",
       "    <tr>\n",
       "      <td>50%</td>\n",
       "      <td>1.000000</td>\n",
       "      <td>0.122100</td>\n",
       "      <td>268.950000</td>\n",
       "      <td>10.928884</td>\n",
       "      <td>12.665000</td>\n",
       "      <td>707.000000</td>\n",
       "      <td>4139.958333</td>\n",
       "      <td>8.596000e+03</td>\n",
       "      <td>46.300000</td>\n",
       "      <td>1.000000</td>\n",
       "      <td>0.000000</td>\n",
       "      <td>0.000000</td>\n",
       "      <td>0.000000</td>\n",
       "    </tr>\n",
       "    <tr>\n",
       "      <td>75%</td>\n",
       "      <td>1.000000</td>\n",
       "      <td>0.140700</td>\n",
       "      <td>432.762500</td>\n",
       "      <td>11.291293</td>\n",
       "      <td>17.950000</td>\n",
       "      <td>737.000000</td>\n",
       "      <td>5730.000000</td>\n",
       "      <td>1.824950e+04</td>\n",
       "      <td>70.900000</td>\n",
       "      <td>2.000000</td>\n",
       "      <td>0.000000</td>\n",
       "      <td>0.000000</td>\n",
       "      <td>0.000000</td>\n",
       "    </tr>\n",
       "    <tr>\n",
       "      <td>max</td>\n",
       "      <td>1.000000</td>\n",
       "      <td>0.216400</td>\n",
       "      <td>940.140000</td>\n",
       "      <td>14.528354</td>\n",
       "      <td>29.960000</td>\n",
       "      <td>827.000000</td>\n",
       "      <td>17639.958330</td>\n",
       "      <td>1.207359e+06</td>\n",
       "      <td>119.000000</td>\n",
       "      <td>33.000000</td>\n",
       "      <td>13.000000</td>\n",
       "      <td>5.000000</td>\n",
       "      <td>1.000000</td>\n",
       "    </tr>\n",
       "  </tbody>\n",
       "</table>\n",
       "</div>"
      ],
      "text/plain": [
       "       credit.policy     int.rate  installment  log.annual.inc          dti  \\\n",
       "count    9578.000000  9578.000000  9578.000000     9578.000000  9578.000000   \n",
       "mean        0.804970     0.122640   319.089413       10.932117    12.606679   \n",
       "std         0.396245     0.026847   207.071301        0.614813     6.883970   \n",
       "min         0.000000     0.060000    15.670000        7.547502     0.000000   \n",
       "25%         1.000000     0.103900   163.770000       10.558414     7.212500   \n",
       "50%         1.000000     0.122100   268.950000       10.928884    12.665000   \n",
       "75%         1.000000     0.140700   432.762500       11.291293    17.950000   \n",
       "max         1.000000     0.216400   940.140000       14.528354    29.960000   \n",
       "\n",
       "              fico  days.with.cr.line     revol.bal   revol.util  \\\n",
       "count  9578.000000        9578.000000  9.578000e+03  9578.000000   \n",
       "mean    710.846314        4560.767197  1.691396e+04    46.799236   \n",
       "std      37.970537        2496.930377  3.375619e+04    29.014417   \n",
       "min     612.000000         178.958333  0.000000e+00     0.000000   \n",
       "25%     682.000000        2820.000000  3.187000e+03    22.600000   \n",
       "50%     707.000000        4139.958333  8.596000e+03    46.300000   \n",
       "75%     737.000000        5730.000000  1.824950e+04    70.900000   \n",
       "max     827.000000       17639.958330  1.207359e+06   119.000000   \n",
       "\n",
       "       inq.last.6mths  delinq.2yrs      pub.rec  not.fully.paid  \n",
       "count     9578.000000  9578.000000  9578.000000     9578.000000  \n",
       "mean         1.577469     0.163708     0.062122        0.160054  \n",
       "std          2.200245     0.546215     0.262126        0.366676  \n",
       "min          0.000000     0.000000     0.000000        0.000000  \n",
       "25%          0.000000     0.000000     0.000000        0.000000  \n",
       "50%          1.000000     0.000000     0.000000        0.000000  \n",
       "75%          2.000000     0.000000     0.000000        0.000000  \n",
       "max         33.000000    13.000000     5.000000        1.000000  "
      ]
     },
     "execution_count": 5,
     "metadata": {},
     "output_type": "execute_result"
    }
   ],
   "source": [
    "print(\"Dataset:: \")\n",
    "balance_data.head()\n",
    "balance_data.info()\n",
    "balance_data.describe()"
   ]
  },
  {
   "cell_type": "code",
   "execution_count": 6,
   "metadata": {},
   "outputs": [
    {
     "data": {
      "text/html": [
       "<div>\n",
       "<style scoped>\n",
       "    .dataframe tbody tr th:only-of-type {\n",
       "        vertical-align: middle;\n",
       "    }\n",
       "\n",
       "    .dataframe tbody tr th {\n",
       "        vertical-align: top;\n",
       "    }\n",
       "\n",
       "    .dataframe thead th {\n",
       "        text-align: right;\n",
       "    }\n",
       "</style>\n",
       "<table border=\"1\" class=\"dataframe\">\n",
       "  <thead>\n",
       "    <tr style=\"text-align: right;\">\n",
       "      <th></th>\n",
       "      <th>credit.policy</th>\n",
       "      <th>int.rate</th>\n",
       "      <th>installment</th>\n",
       "      <th>log.annual.inc</th>\n",
       "      <th>dti</th>\n",
       "      <th>fico</th>\n",
       "      <th>days.with.cr.line</th>\n",
       "      <th>revol.bal</th>\n",
       "      <th>revol.util</th>\n",
       "      <th>inq.last.6mths</th>\n",
       "      <th>delinq.2yrs</th>\n",
       "      <th>pub.rec</th>\n",
       "      <th>not.fully.paid</th>\n",
       "      <th>debt_consolidation</th>\n",
       "      <th>educational</th>\n",
       "      <th>small_business</th>\n",
       "    </tr>\n",
       "  </thead>\n",
       "  <tbody>\n",
       "    <tr>\n",
       "      <td>0</td>\n",
       "      <td>1</td>\n",
       "      <td>0.1189</td>\n",
       "      <td>829.10</td>\n",
       "      <td>11.350407</td>\n",
       "      <td>19.48</td>\n",
       "      <td>737</td>\n",
       "      <td>5639.958333</td>\n",
       "      <td>28854</td>\n",
       "      <td>52.1</td>\n",
       "      <td>0</td>\n",
       "      <td>0</td>\n",
       "      <td>0</td>\n",
       "      <td>0</td>\n",
       "      <td>1</td>\n",
       "      <td>0</td>\n",
       "      <td>0</td>\n",
       "    </tr>\n",
       "    <tr>\n",
       "      <td>1</td>\n",
       "      <td>1</td>\n",
       "      <td>0.1071</td>\n",
       "      <td>228.22</td>\n",
       "      <td>11.082143</td>\n",
       "      <td>14.29</td>\n",
       "      <td>707</td>\n",
       "      <td>2760.000000</td>\n",
       "      <td>33623</td>\n",
       "      <td>76.7</td>\n",
       "      <td>0</td>\n",
       "      <td>0</td>\n",
       "      <td>0</td>\n",
       "      <td>0</td>\n",
       "      <td>0</td>\n",
       "      <td>0</td>\n",
       "      <td>0</td>\n",
       "    </tr>\n",
       "    <tr>\n",
       "      <td>2</td>\n",
       "      <td>1</td>\n",
       "      <td>0.1357</td>\n",
       "      <td>366.86</td>\n",
       "      <td>10.373491</td>\n",
       "      <td>11.63</td>\n",
       "      <td>682</td>\n",
       "      <td>4710.000000</td>\n",
       "      <td>3511</td>\n",
       "      <td>25.6</td>\n",
       "      <td>1</td>\n",
       "      <td>0</td>\n",
       "      <td>0</td>\n",
       "      <td>0</td>\n",
       "      <td>1</td>\n",
       "      <td>0</td>\n",
       "      <td>0</td>\n",
       "    </tr>\n",
       "    <tr>\n",
       "      <td>3</td>\n",
       "      <td>1</td>\n",
       "      <td>0.1008</td>\n",
       "      <td>162.34</td>\n",
       "      <td>11.350407</td>\n",
       "      <td>8.10</td>\n",
       "      <td>712</td>\n",
       "      <td>2699.958333</td>\n",
       "      <td>33667</td>\n",
       "      <td>73.2</td>\n",
       "      <td>1</td>\n",
       "      <td>0</td>\n",
       "      <td>0</td>\n",
       "      <td>0</td>\n",
       "      <td>1</td>\n",
       "      <td>0</td>\n",
       "      <td>0</td>\n",
       "    </tr>\n",
       "    <tr>\n",
       "      <td>4</td>\n",
       "      <td>1</td>\n",
       "      <td>0.1426</td>\n",
       "      <td>102.92</td>\n",
       "      <td>11.299732</td>\n",
       "      <td>14.97</td>\n",
       "      <td>667</td>\n",
       "      <td>4066.000000</td>\n",
       "      <td>4740</td>\n",
       "      <td>39.5</td>\n",
       "      <td>0</td>\n",
       "      <td>1</td>\n",
       "      <td>0</td>\n",
       "      <td>0</td>\n",
       "      <td>0</td>\n",
       "      <td>0</td>\n",
       "      <td>0</td>\n",
       "    </tr>\n",
       "  </tbody>\n",
       "</table>\n",
       "</div>"
      ],
      "text/plain": [
       "   credit.policy  int.rate  installment  log.annual.inc    dti  fico  \\\n",
       "0              1    0.1189       829.10       11.350407  19.48   737   \n",
       "1              1    0.1071       228.22       11.082143  14.29   707   \n",
       "2              1    0.1357       366.86       10.373491  11.63   682   \n",
       "3              1    0.1008       162.34       11.350407   8.10   712   \n",
       "4              1    0.1426       102.92       11.299732  14.97   667   \n",
       "\n",
       "   days.with.cr.line  revol.bal  revol.util  inq.last.6mths  delinq.2yrs  \\\n",
       "0        5639.958333      28854        52.1               0            0   \n",
       "1        2760.000000      33623        76.7               0            0   \n",
       "2        4710.000000       3511        25.6               1            0   \n",
       "3        2699.958333      33667        73.2               1            0   \n",
       "4        4066.000000       4740        39.5               0            1   \n",
       "\n",
       "   pub.rec  not.fully.paid  debt_consolidation  educational  small_business  \n",
       "0        0               0                   1            0               0  \n",
       "1        0               0                   0            0               0  \n",
       "2        0               0                   1            0               0  \n",
       "3        0               0                   1            0               0  \n",
       "4        0               0                   0            0               0  "
      ]
     },
     "execution_count": 6,
     "metadata": {},
     "output_type": "execute_result"
    }
   ],
   "source": [
    "#handling categorical variables \n",
    "import pandas as pd\n",
    "purpose_c = pd.get_dummies(balance_data['purpose'], drop_first=True)\n",
    "loans = pd.concat([balance_data, purpose_c], axis=1).drop('purpose', axis=1)\n",
    "loans.head()"
   ]
  },
  {
   "cell_type": "code",
   "execution_count": 32,
   "metadata": {},
   "outputs": [],
   "source": [
    "#Creating the Source and Target Variables\n",
    "X = loans.drop('credit.policy', axis = 1)\n",
    "Y = loans['credit.policy']\n",
    "#Spliting Dataset into Test and Train\n",
    "X_train, X_test, y_train, y_test=train_test_split(X,Y,test_size=0.2, random_state=1)\n",
    "#Applying Standard scaling to get optimized result\n",
    "sc = StandardScaler()\n",
    "X_train = sc.fit_transform(X_train)\n",
    "X_test = sc.fit_transform(X_test)\n"
   ]
  },
  {
   "cell_type": "code",
   "execution_count": 33,
   "metadata": {},
   "outputs": [
    {
     "data": {
      "text/plain": [
       "((7662, 15), (1916, 15))"
      ]
     },
     "execution_count": 33,
     "metadata": {},
     "output_type": "execute_result"
    }
   ],
   "source": [
    "X_train.shape,X_test.shape"
   ]
  },
  {
   "cell_type": "code",
   "execution_count": 34,
   "metadata": {},
   "outputs": [
    {
     "data": {
      "text/plain": [
       "DecisionTreeClassifier(class_weight=None, criterion='entropy', max_depth=2,\n",
       "                       max_features=None, max_leaf_nodes=None,\n",
       "                       min_impurity_decrease=0.0, min_impurity_split=None,\n",
       "                       min_samples_leaf=1, min_samples_split=2,\n",
       "                       min_weight_fraction_leaf=0.0, presort=False,\n",
       "                       random_state=0, splitter='best')"
      ]
     },
     "execution_count": 34,
     "metadata": {},
     "output_type": "execute_result"
    }
   ],
   "source": [
    "#Decision Tree Classifier\n",
    "#Function to perform training with Entropy\n",
    "dt=DecisionTreeClassifier(criterion=\"entropy\", random_state=0, max_depth=2)\n",
    "dt.fit(X_train, y_train)"
   ]
  },
  {
   "cell_type": "code",
   "execution_count": 35,
   "metadata": {},
   "outputs": [
    {
     "name": "stdout",
     "output_type": "stream",
     "text": [
      "[[ 274   89]\n",
      " [   0 1553]]\n",
      "              precision    recall  f1-score   support\n",
      "\n",
      "           0       1.00      0.75      0.86       363\n",
      "           1       0.95      1.00      0.97      1553\n",
      "\n",
      "    accuracy                           0.95      1916\n",
      "   macro avg       0.97      0.88      0.92      1916\n",
      "weighted avg       0.96      0.95      0.95      1916\n",
      "\n"
     ]
    },
    {
     "data": {
      "text/plain": [
       "0.9509510269741805"
      ]
     },
     "execution_count": 35,
     "metadata": {},
     "output_type": "execute_result"
    }
   ],
   "source": [
    "# Function to make prediction\n",
    "y_pred_en=dt.predict(X_test)\n",
    "#checking performance of the model\n",
    "print(confusion_matrix(y_test, y_pred_en))\n",
    "print(classification_report(y_test, y_pred_en))\n",
    "f1_score(y_test, y_pred_en,average='weighted')"
   ]
  },
  {
   "cell_type": "code",
   "execution_count": 11,
   "metadata": {},
   "outputs": [
    {
     "name": "stdout",
     "output_type": "stream",
     "text": [
      "[[ 351   12]\n",
      " [   5 1548]]\n",
      "              precision    recall  f1-score   support\n",
      "\n",
      "           0       0.99      0.97      0.98       363\n",
      "           1       0.99      1.00      0.99      1553\n",
      "\n",
      "    accuracy                           0.99      1916\n",
      "   macro avg       0.99      0.98      0.99      1916\n",
      "weighted avg       0.99      0.99      0.99      1916\n",
      "\n"
     ]
    },
    {
     "data": {
      "text/plain": [
       "0.9910941333876212"
      ]
     },
     "execution_count": 11,
     "metadata": {},
     "output_type": "execute_result"
    }
   ],
   "source": [
    "#Random Forest Classifier\n",
    "rfc=RandomForestClassifier(n_estimators=100, max_features=.2)\n",
    "rfc.fit(X_train, y_train)\n",
    "predictionRF=rfc.predict(X_test)\n",
    "#checking performance of the model\n",
    "print(confusion_matrix(y_test, predictionRF))\n",
    "print(classification_report(y_test, predictionRF))\n",
    "f1_score(y_test, predictionRF,average='weighted')\n"
   ]
  },
  {
   "cell_type": "code",
   "execution_count": 12,
   "metadata": {},
   "outputs": [
    {
     "data": {
      "text/plain": [
       "43.77213725647858"
      ]
     },
     "execution_count": 12,
     "metadata": {},
     "output_type": "execute_result"
    }
   ],
   "source": [
    "#define K\n",
    "import math\n",
    "math.sqrt(len(y_test))"
   ]
  },
  {
   "cell_type": "code",
   "execution_count": 13,
   "metadata": {},
   "outputs": [
    {
     "name": "stdout",
     "output_type": "stream",
     "text": [
      "[[ 107  256]\n",
      " [   2 1551]]\n",
      "              precision    recall  f1-score   support\n",
      "\n",
      "           0       0.98      0.29      0.45       363\n",
      "           1       0.86      1.00      0.92      1553\n",
      "\n",
      "    accuracy                           0.87      1916\n",
      "   macro avg       0.92      0.65      0.69      1916\n",
      "weighted avg       0.88      0.87      0.83      1916\n",
      "\n"
     ]
    },
    {
     "data": {
      "text/plain": [
       "0.834202658762454"
      ]
     },
     "execution_count": 13,
     "metadata": {},
     "output_type": "execute_result"
    }
   ],
   "source": [
    "#K-NN classifier\n",
    "knn=KNeighborsClassifier(n_neighbors=43, p=2, metric='euclidean')\n",
    "\n",
    "#predict the test set results\n",
    "knn.fit(X_train, y_train)\n",
    "predictionKNN=knn.predict(X_test)\n",
    "#Evaluate model\n",
    "print(confusion_matrix(y_test, predictionKNN))\n",
    "print(classification_report(y_test, predictionKNN))\n",
    "f1_score(y_test, predictionKNN,average='weighted')"
   ]
  },
  {
   "cell_type": "code",
   "execution_count": 14,
   "metadata": {},
   "outputs": [
    {
     "name": "stdout",
     "output_type": "stream",
     "text": [
      "[[ 229  134]\n",
      " [  33 1520]]\n",
      "              precision    recall  f1-score   support\n",
      "\n",
      "           0       0.87      0.63      0.73       363\n",
      "           1       0.92      0.98      0.95      1553\n",
      "\n",
      "    accuracy                           0.91      1916\n",
      "   macro avg       0.90      0.80      0.84      1916\n",
      "weighted avg       0.91      0.91      0.91      1916\n",
      "\n"
     ]
    },
    {
     "data": {
      "text/plain": [
       "0.907169162967491"
      ]
     },
     "execution_count": 14,
     "metadata": {},
     "output_type": "execute_result"
    }
   ],
   "source": [
    "# svm Classifier\n",
    "clf=svm.SVC(kernel=\"linear\", C=1.0)\n",
    "clf.fit(X_train,y_train)\n",
    "predictionSVM=clf.predict(X_test)\n",
    "\n",
    "#Evaluate model\n",
    "print(confusion_matrix(y_test, predictionSVM))\n",
    "print(classification_report(y_test, predictionSVM))\n",
    "f1_score(y_test, predictionSVM,average='weighted')"
   ]
  },
  {
   "cell_type": "code",
   "execution_count": 15,
   "metadata": {},
   "outputs": [
    {
     "name": "stdout",
     "output_type": "stream",
     "text": [
      "[[ 353   10]\n",
      " [  86 1467]]\n",
      "              precision    recall  f1-score   support\n",
      "\n",
      "           0       0.80      0.97      0.88       363\n",
      "           1       0.99      0.94      0.97      1553\n",
      "\n",
      "    accuracy                           0.95      1916\n",
      "   macro avg       0.90      0.96      0.92      1916\n",
      "weighted avg       0.96      0.95      0.95      1916\n",
      "\n"
     ]
    },
    {
     "data": {
      "text/plain": [
       "0.951641267240547"
      ]
     },
     "execution_count": 15,
     "metadata": {},
     "output_type": "execute_result"
    }
   ],
   "source": [
    "#Bagging Classifier\n",
    "bg=BaggingClassifier(DecisionTreeClassifier(), max_samples=0.5, max_features=1.0, n_estimators=10)\n",
    "bg=BaggingClassifier()\n",
    "bg.fit(X_train,y_train)\n",
    "predictionbg=bg.predict(X_test)\n",
    "\n",
    "#Evaluate model\n",
    "print(confusion_matrix(y_test, predictionbg))\n",
    "print(classification_report(y_test, predictionbg))\n",
    "f1_score(y_test, predictionbg,average='weighted')"
   ]
  },
  {
   "cell_type": "code",
   "execution_count": 16,
   "metadata": {},
   "outputs": [
    {
     "name": "stdout",
     "output_type": "stream",
     "text": [
      "[[ 356    7]\n",
      " [  97 1456]]\n",
      "              precision    recall  f1-score   support\n",
      "\n",
      "           0       0.79      0.98      0.87       363\n",
      "           1       1.00      0.94      0.97      1553\n",
      "\n",
      "    accuracy                           0.95      1916\n",
      "   macro avg       0.89      0.96      0.92      1916\n",
      "weighted avg       0.96      0.95      0.95      1916\n",
      "\n"
     ]
    },
    {
     "data": {
      "text/plain": [
       "0.9479037421606032"
      ]
     },
     "execution_count": 16,
     "metadata": {},
     "output_type": "execute_result"
    }
   ],
   "source": [
    "#Boosting Classifier- Ada Boost\n",
    "adb=AdaBoostClassifier(DecisionTreeClassifier(), n_estimators=10, learning_rate=1)\n",
    "adb.fit(X_train,y_train)\n",
    "predictionadb=adb.predict(X_test)\n",
    "\n",
    "#Evaluate model\n",
    "print(confusion_matrix(y_test, predictionadb))\n",
    "print(classification_report(y_test, predictionadb))\n",
    "f1_score(y_test, predictionadb,average='weighted')"
   ]
  },
  {
   "cell_type": "code",
   "execution_count": 18,
   "metadata": {},
   "outputs": [
    {
     "name": "stdout",
     "output_type": "stream",
     "text": [
      "[[ 227  136]\n",
      " [ 132 1421]]\n",
      "              precision    recall  f1-score   support\n",
      "\n",
      "           0       0.63      0.63      0.63       363\n",
      "           1       0.91      0.92      0.91      1553\n",
      "\n",
      "    accuracy                           0.86      1916\n",
      "   macro avg       0.77      0.77      0.77      1916\n",
      "weighted avg       0.86      0.86      0.86      1916\n",
      "\n"
     ]
    },
    {
     "data": {
      "text/plain": [
       "0.8598277479099232"
      ]
     },
     "execution_count": 18,
     "metadata": {},
     "output_type": "execute_result"
    }
   ],
   "source": [
    "#Naive bayse Classifier\n",
    "nb=GaussianNB()\n",
    "nb.fit(X_train,y_train)\n",
    "predictionnb=nb.predict(X_test)\n",
    "\n",
    "#Evaluate model\n",
    "print(confusion_matrix(y_test, predictionnb))\n",
    "print(classification_report(y_test, predictionnb))\n",
    "f1_score(y_test, predictionnb,average='weighted')"
   ]
  },
  {
   "cell_type": "code",
   "execution_count": 21,
   "metadata": {},
   "outputs": [
    {
     "name": "stdout",
     "output_type": "stream",
     "text": [
      "[[ 272   91]\n",
      " [  29 1524]]\n",
      "              precision    recall  f1-score   support\n",
      "\n",
      "           0       0.90      0.75      0.82       363\n",
      "           1       0.94      0.98      0.96      1553\n",
      "\n",
      "    accuracy                           0.94      1916\n",
      "   macro avg       0.92      0.87      0.89      1916\n",
      "weighted avg       0.94      0.94      0.94      1916\n",
      "\n"
     ]
    },
    {
     "data": {
      "text/plain": [
       "0.9350583678422171"
      ]
     },
     "execution_count": 21,
     "metadata": {},
     "output_type": "execute_result"
    }
   ],
   "source": [
    "#creat Multilayer neural network Classifier\n",
    "nn=MLPClassifier(solver='lbfgs', alpha=1e-5,hidden_layer_sizes=(5, 2), random_state=1)\n",
    "nn.fit(X_train,y_train)\n",
    "predictionNN=nn.predict(X_test)\n",
    "\n",
    "#Evaluate model\n",
    "print(confusion_matrix(y_test, predictionNN))\n",
    "print(classification_report(y_test, predictionNN))\n",
    "f1_score(y_test, predictionNN,average='weighted')\n"
   ]
  },
  {
   "cell_type": "code",
   "execution_count": 22,
   "metadata": {},
   "outputs": [
    {
     "name": "stdout",
     "output_type": "stream",
     "text": [
      "[[ 344   19]\n",
      " [   4 1549]]\n",
      "              precision    recall  f1-score   support\n",
      "\n",
      "           0       0.99      0.95      0.97       363\n",
      "           1       0.99      1.00      0.99      1553\n",
      "\n",
      "    accuracy                           0.99      1916\n",
      "   macro avg       0.99      0.97      0.98      1916\n",
      "weighted avg       0.99      0.99      0.99      1916\n",
      "\n"
     ]
    },
    {
     "data": {
      "text/plain": [
       "0.9878980452572027"
      ]
     },
     "execution_count": 22,
     "metadata": {},
     "output_type": "execute_result"
    }
   ],
   "source": [
    "#Voting Classifier- Multiple Model Ensemble\n",
    "evc=VotingClassifier(estimators=[('dt',dt),('rfc',rfc),('clf',clf),('knn',knn),('bg',bg),('adb',adb),('nb',nb),('nn',nn)], voting='hard')\n",
    "evc.fit(X_train,y_train)\n",
    "predictionevc=evc.predict(X_test)\n",
    "\n",
    "#Evaluate model\n",
    "print(confusion_matrix(y_test, predictionevc))\n",
    "print(classification_report(y_test, predictionevc))\n",
    "f1_score(y_test, predictionevc,average='weighted')"
   ]
  },
  {
   "cell_type": "code",
   "execution_count": 23,
   "metadata": {},
   "outputs": [],
   "source": [
    "#defining learning classifiers\n",
    "names=[\"Decision_Tree\", \"Random_Forest\", \"linear_SVM\",\"Nearest_Neighbors\",\"Bagging\",\"AdaBoost\",\"Naive_Bayes\",\"Neural_Net\",\"Vothing_classifier\"]\n",
    "classifiers = [dt,rfc,clf,knn,bg,adb,nb,nn,evc]"
   ]
  },
  {
   "cell_type": "code",
   "execution_count": 24,
   "metadata": {},
   "outputs": [],
   "source": [
    "#Build Model, Apply Model on Test Data & Record Accuracy Scores\n",
    "scores = []\n",
    "for name, clf in zip(names, classifiers):\n",
    "    clf.fit(X_train, y_train)\n",
    "    prediction=clf.predict(X_test)\n",
    "    score=f1_score(y_test, prediction,average='weighted')\n",
    "    scores.append(score)"
   ]
  },
  {
   "cell_type": "code",
   "execution_count": 25,
   "metadata": {},
   "outputs": [
    {
     "data": {
      "text/plain": [
       "[0.9509510269741805,\n",
       " 0.9900463843744001,\n",
       " 0.907169162967491,\n",
       " 0.834202658762454,\n",
       " 0.9493469602475108,\n",
       " 0.947423296505567,\n",
       " 0.8598277479099232,\n",
       " 0.9350583678422171,\n",
       " 0.9873648624759218]"
      ]
     },
     "execution_count": 25,
     "metadata": {},
     "output_type": "execute_result"
    }
   ],
   "source": [
    "scores"
   ]
  },
  {
   "cell_type": "code",
   "execution_count": 26,
   "metadata": {},
   "outputs": [],
   "source": [
    "#create data frame of model performance\n",
    "df = pd.DataFrame()\n",
    "df['Machine Learning algorithms'] = names\n",
    "df['F-measure of Loan Repayment'] = scores \n"
   ]
  },
  {
   "cell_type": "code",
   "execution_count": 27,
   "metadata": {},
   "outputs": [
    {
     "data": {
      "text/html": [
       "<style  type=\"text/css\" >\n",
       "    #T_73b0b238_1e0b_11eb_b097_d053490e15f2row0_col1 {\n",
       "            background-color:  #ff9a76;\n",
       "            color:  #000000;\n",
       "        }    #T_73b0b238_1e0b_11eb_b097_d053490e15f2row1_col1 {\n",
       "            background-color:  #ff7f50;\n",
       "            color:  #000000;\n",
       "        }    #T_73b0b238_1e0b_11eb_b097_d053490e15f2row2_col1 {\n",
       "            background-color:  #ffb9a0;\n",
       "            color:  #000000;\n",
       "        }    #T_73b0b238_1e0b_11eb_b097_d053490e15f2row3_col1 {\n",
       "            background-color:  #ffece5;\n",
       "            color:  #000000;\n",
       "        }    #T_73b0b238_1e0b_11eb_b097_d053490e15f2row4_col1 {\n",
       "            background-color:  #ff9b77;\n",
       "            color:  #000000;\n",
       "        }    #T_73b0b238_1e0b_11eb_b097_d053490e15f2row5_col1 {\n",
       "            background-color:  #ff9d79;\n",
       "            color:  #000000;\n",
       "        }    #T_73b0b238_1e0b_11eb_b097_d053490e15f2row6_col1 {\n",
       "            background-color:  #ffdacd;\n",
       "            color:  #000000;\n",
       "        }    #T_73b0b238_1e0b_11eb_b097_d053490e15f2row7_col1 {\n",
       "            background-color:  #ffa685;\n",
       "            color:  #000000;\n",
       "        }    #T_73b0b238_1e0b_11eb_b097_d053490e15f2row8_col1 {\n",
       "            background-color:  #ff8152;\n",
       "            color:  #000000;\n",
       "        }</style><table id=\"T_73b0b238_1e0b_11eb_b097_d053490e15f2\" ><thead>    <tr>        <th class=\"blank level0\" ></th>        <th class=\"col_heading level0 col0\" >Machine Learning algorithms</th>        <th class=\"col_heading level0 col1\" >F-measure of Loan Repayment</th>    </tr></thead><tbody>\n",
       "                <tr>\n",
       "                        <th id=\"T_73b0b238_1e0b_11eb_b097_d053490e15f2level0_row0\" class=\"row_heading level0 row0\" >0</th>\n",
       "                        <td id=\"T_73b0b238_1e0b_11eb_b097_d053490e15f2row0_col0\" class=\"data row0 col0\" >Decision_Tree</td>\n",
       "                        <td id=\"T_73b0b238_1e0b_11eb_b097_d053490e15f2row0_col1\" class=\"data row0 col1\" >0.950951</td>\n",
       "            </tr>\n",
       "            <tr>\n",
       "                        <th id=\"T_73b0b238_1e0b_11eb_b097_d053490e15f2level0_row1\" class=\"row_heading level0 row1\" >1</th>\n",
       "                        <td id=\"T_73b0b238_1e0b_11eb_b097_d053490e15f2row1_col0\" class=\"data row1 col0\" >Random_Forest</td>\n",
       "                        <td id=\"T_73b0b238_1e0b_11eb_b097_d053490e15f2row1_col1\" class=\"data row1 col1\" >0.990046</td>\n",
       "            </tr>\n",
       "            <tr>\n",
       "                        <th id=\"T_73b0b238_1e0b_11eb_b097_d053490e15f2level0_row2\" class=\"row_heading level0 row2\" >2</th>\n",
       "                        <td id=\"T_73b0b238_1e0b_11eb_b097_d053490e15f2row2_col0\" class=\"data row2 col0\" >linear_SVM</td>\n",
       "                        <td id=\"T_73b0b238_1e0b_11eb_b097_d053490e15f2row2_col1\" class=\"data row2 col1\" >0.907169</td>\n",
       "            </tr>\n",
       "            <tr>\n",
       "                        <th id=\"T_73b0b238_1e0b_11eb_b097_d053490e15f2level0_row3\" class=\"row_heading level0 row3\" >3</th>\n",
       "                        <td id=\"T_73b0b238_1e0b_11eb_b097_d053490e15f2row3_col0\" class=\"data row3 col0\" >Nearest_Neighbors</td>\n",
       "                        <td id=\"T_73b0b238_1e0b_11eb_b097_d053490e15f2row3_col1\" class=\"data row3 col1\" >0.834203</td>\n",
       "            </tr>\n",
       "            <tr>\n",
       "                        <th id=\"T_73b0b238_1e0b_11eb_b097_d053490e15f2level0_row4\" class=\"row_heading level0 row4\" >4</th>\n",
       "                        <td id=\"T_73b0b238_1e0b_11eb_b097_d053490e15f2row4_col0\" class=\"data row4 col0\" >Bagging</td>\n",
       "                        <td id=\"T_73b0b238_1e0b_11eb_b097_d053490e15f2row4_col1\" class=\"data row4 col1\" >0.949347</td>\n",
       "            </tr>\n",
       "            <tr>\n",
       "                        <th id=\"T_73b0b238_1e0b_11eb_b097_d053490e15f2level0_row5\" class=\"row_heading level0 row5\" >5</th>\n",
       "                        <td id=\"T_73b0b238_1e0b_11eb_b097_d053490e15f2row5_col0\" class=\"data row5 col0\" >AdaBoost</td>\n",
       "                        <td id=\"T_73b0b238_1e0b_11eb_b097_d053490e15f2row5_col1\" class=\"data row5 col1\" >0.947423</td>\n",
       "            </tr>\n",
       "            <tr>\n",
       "                        <th id=\"T_73b0b238_1e0b_11eb_b097_d053490e15f2level0_row6\" class=\"row_heading level0 row6\" >6</th>\n",
       "                        <td id=\"T_73b0b238_1e0b_11eb_b097_d053490e15f2row6_col0\" class=\"data row6 col0\" >Naive_Bayes</td>\n",
       "                        <td id=\"T_73b0b238_1e0b_11eb_b097_d053490e15f2row6_col1\" class=\"data row6 col1\" >0.859828</td>\n",
       "            </tr>\n",
       "            <tr>\n",
       "                        <th id=\"T_73b0b238_1e0b_11eb_b097_d053490e15f2level0_row7\" class=\"row_heading level0 row7\" >7</th>\n",
       "                        <td id=\"T_73b0b238_1e0b_11eb_b097_d053490e15f2row7_col0\" class=\"data row7 col0\" >Neural_Net</td>\n",
       "                        <td id=\"T_73b0b238_1e0b_11eb_b097_d053490e15f2row7_col1\" class=\"data row7 col1\" >0.935058</td>\n",
       "            </tr>\n",
       "            <tr>\n",
       "                        <th id=\"T_73b0b238_1e0b_11eb_b097_d053490e15f2level0_row8\" class=\"row_heading level0 row8\" >8</th>\n",
       "                        <td id=\"T_73b0b238_1e0b_11eb_b097_d053490e15f2row8_col0\" class=\"data row8 col0\" >Vothing_classifier</td>\n",
       "                        <td id=\"T_73b0b238_1e0b_11eb_b097_d053490e15f2row8_col1\" class=\"data row8 col1\" >0.987365</td>\n",
       "            </tr>\n",
       "    </tbody></table>"
      ],
      "text/plain": [
       "<pandas.io.formats.style.Styler at 0x20164c4a848>"
      ]
     },
     "execution_count": 27,
     "metadata": {},
     "output_type": "execute_result"
    }
   ],
   "source": [
    "#adding colors to the data frame\n",
    "cm = sns.light_palette(\"#FF7F50\", as_cmap=True)\n",
    "s = df.style.background_gradient(cmap=cm)\n",
    "s"
   ]
  },
  {
   "cell_type": "code",
   "execution_count": 29,
   "metadata": {},
   "outputs": [
    {
     "data": {
      "image/png": "[encoded data removed]",
      "text/plain": [
       "<Figure size 432x288 with 1 Axes>"
      ]
     },
     "metadata": {},
     "output_type": "display_data"
    }
   ],
   "source": [
    "#Bar plot of model performance\n",
    "sns.set(style=\"whitegrid\")\n",
    "ax = sns.barplot(y=\"Machine Learning algorithms\", x=\"F-measure of Loan Repayment\", data=df)\n"
   ]
  }
 ],
 "metadata": {
  "kernelspec": {
   "display_name": "Python 3",
   "language": "python",
   "name": "python3"
  },
  "language_info": {
   "codemirror_mode": {
    "name": "ipython",
    "version": 3
   },
   "file_extension": ".py",
   "mimetype": "text/x-python",
   "name": "python",
   "nbconvert_exporter": "python",
   "pygments_lexer": "ipython3",
   "version": "3.7.4"
  },
  "widgets": {
   "application/vnd.jupyter.widget-state+json": {
    "state": {},
    "version_major": 2,
    "version_minor": 0
   }
  }
 },
 "nbformat": 4,
 "nbformat_minor": 2
}
