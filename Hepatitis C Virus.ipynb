{
 "cells": [
  {
   "cell_type": "code",
   "execution_count": 46,
   "metadata": {},
   "outputs": [],
   "source": [
    "import numpy as np\n",
    "import pandas as pd\n",
    "import seaborn as sns\n",
    "import matplotlib.pyplot as plt\n",
    "from sklearn import model_selection\n",
    "from sklearn.model_selection import train_test_split, cross_val_score\n",
    "from sklearn.preprocessing import StandardScaler\n",
    "from sklearn import tree\n",
    "from sklearn.tree import DecisionTreeClassifier\n",
    "from sklearn.ensemble import RandomForestClassifier, BaggingClassifier, AdaBoostClassifier, VotingClassifier\n",
    "from sklearn.neighbors import KNeighborsClassifier\n",
    "from sklearn.linear_model import LogisticRegression\n",
    "from sklearn import svm\n",
    "from sklearn.svm import SVC\n",
    "from sklearn.neural_network import MLPClassifier\n",
    "from sklearn.naive_bayes import GaussianNB\n",
    "from sklearn.datasets.samples_generator import make_blobs\n",
    "from sklearn.metrics import confusion_matrix,accuracy_score, classification_report, f1_score, precision_recall_curve\n",
    "from sklearn.discriminant_analysis import QuadraticDiscriminantAnalysis\n",
    "from sklearn.linear_model import SGDClassifier\n",
    "from sklearn.datasets import make_classification\n",
    "from sklearn.metrics import roc_curve, roc_auc_score,auc\n",
    "from sklearn.feature_selection import VarianceThreshold,mutual_info_classif,mutual_info_regression\n",
    "import matplotlib.pyplot as plt\n",
    "from sklearn.feature_selection import SelectFromModel,SelectKBest,SelectPercentile\n",
    "from sklearn import preprocessing \n",
    "from sklearn.preprocessing import MinMaxScaler "
   ]
  },
  {
   "cell_type": "code",
   "execution_count": 47,
   "metadata": {},
   "outputs": [],
   "source": [
    "#loading data file\n",
    "#dataset https://archive.ics.uci.edu/ml/datasets/Hepatitis+C+Virus+%28HCV%29+for+Egyptian+patients\n",
    "fullFileName='HCV-Egy-Data.csv'\n",
    "df= pd.read_csv(fullFileName, sep=',', header=0)\n"
   ]
  },
  {
   "cell_type": "code",
   "execution_count": 48,
   "metadata": {},
   "outputs": [
    {
     "name": "stdout",
     "output_type": "stream",
     "text": [
      "Dataset shape::  (1385, 29)\n",
      "Dataset Lenght::  1385\n"
     ]
    },
    {
     "data": {
      "text/plain": [
       "Age                                 0\n",
       "Gender                              0\n",
       "BMI                                 0\n",
       "Fever                               0\n",
       "Nausea/Vomting                      0\n",
       "Headache                            0\n",
       "Diarrhea                            0\n",
       "Fatigue & generalized bone ache     0\n",
       "Jaundice                            0\n",
       "Epigastric pain                     0\n",
       "WBC                                 0\n",
       "RBC                                 0\n",
       "HGB                                 0\n",
       "Plat                                0\n",
       "AST 1                               0\n",
       "ALT 1                               0\n",
       "ALT4                                0\n",
       "ALT 12                              0\n",
       "ALT 24                              0\n",
       "ALT 36                              0\n",
       "ALT 48                              0\n",
       "ALT after 24 w                      0\n",
       "RNA Base                            0\n",
       "RNA 4                               0\n",
       "RNA 12                              0\n",
       "RNA EOT                             0\n",
       "RNA EF                              0\n",
       "Baseline histological Grading       0\n",
       "Baselinehistological staging        0\n",
       "dtype: int64"
      ]
     },
     "execution_count": 48,
     "metadata": {},
     "output_type": "execute_result"
    }
   ],
   "source": [
    "print(\"Dataset shape:: \", df.shape)\n",
    "print(\"Dataset Lenght:: \",len(df))\n",
    "df.isnull().sum(axis=0)"
   ]
  },
  {
   "cell_type": "code",
   "execution_count": 49,
   "metadata": {},
   "outputs": [
    {
     "name": "stdout",
     "output_type": "stream",
     "text": [
      "Dataset:: \n",
      "<class 'pandas.core.frame.DataFrame'>\n",
      "RangeIndex: 1385 entries, 0 to 1384\n",
      "Data columns (total 29 columns):\n",
      "Age                                 1385 non-null int64\n",
      "Gender                              1385 non-null int64\n",
      "BMI                                 1385 non-null int64\n",
      "Fever                               1385 non-null int64\n",
      "Nausea/Vomting                      1385 non-null int64\n",
      "Headache                            1385 non-null int64\n",
      "Diarrhea                            1385 non-null int64\n",
      "Fatigue & generalized bone ache     1385 non-null int64\n",
      "Jaundice                            1385 non-null int64\n",
      "Epigastric pain                     1385 non-null int64\n",
      "WBC                                 1385 non-null int64\n",
      "RBC                                 1385 non-null float64\n",
      "HGB                                 1385 non-null int64\n",
      "Plat                                1385 non-null float64\n",
      "AST 1                               1385 non-null int64\n",
      "ALT 1                               1385 non-null int64\n",
      "ALT4                                1385 non-null float64\n",
      "ALT 12                              1385 non-null int64\n",
      "ALT 24                              1385 non-null int64\n",
      "ALT 36                              1385 non-null int64\n",
      "ALT 48                              1385 non-null int64\n",
      "ALT after 24 w                      1385 non-null int64\n",
      "RNA Base                            1385 non-null int64\n",
      "RNA 4                               1385 non-null int64\n",
      "RNA 12                              1385 non-null int64\n",
      "RNA EOT                             1385 non-null int64\n",
      "RNA EF                              1385 non-null int64\n",
      "Baseline histological Grading       1385 non-null int64\n",
      "Baselinehistological staging        1385 non-null int64\n",
      "dtypes: float64(3), int64(26)\n",
      "memory usage: 313.9 KB\n"
     ]
    },
    {
     "data": {
      "text/html": [
       "<div>\n",
       "<style scoped>\n",
       "    .dataframe tbody tr th:only-of-type {\n",
       "        vertical-align: middle;\n",
       "    }\n",
       "\n",
       "    .dataframe tbody tr th {\n",
       "        vertical-align: top;\n",
       "    }\n",
       "\n",
       "    .dataframe thead th {\n",
       "        text-align: right;\n",
       "    }\n",
       "</style>\n",
       "<table border=\"1\" class=\"dataframe\">\n",
       "  <thead>\n",
       "    <tr style=\"text-align: right;\">\n",
       "      <th></th>\n",
       "      <th>Age</th>\n",
       "      <th>Gender</th>\n",
       "      <th>BMI</th>\n",
       "      <th>Fever</th>\n",
       "      <th>Nausea/Vomting</th>\n",
       "      <th>Headache</th>\n",
       "      <th>Diarrhea</th>\n",
       "      <th>Fatigue &amp; generalized bone ache</th>\n",
       "      <th>Jaundice</th>\n",
       "      <th>Epigastric pain</th>\n",
       "      <th>...</th>\n",
       "      <th>ALT 36</th>\n",
       "      <th>ALT 48</th>\n",
       "      <th>ALT after 24 w</th>\n",
       "      <th>RNA Base</th>\n",
       "      <th>RNA 4</th>\n",
       "      <th>RNA 12</th>\n",
       "      <th>RNA EOT</th>\n",
       "      <th>RNA EF</th>\n",
       "      <th>Baseline histological Grading</th>\n",
       "      <th>Baselinehistological staging</th>\n",
       "    </tr>\n",
       "  </thead>\n",
       "  <tbody>\n",
       "    <tr>\n",
       "      <td>count</td>\n",
       "      <td>1385.000000</td>\n",
       "      <td>1385.000000</td>\n",
       "      <td>1385.000000</td>\n",
       "      <td>1385.000000</td>\n",
       "      <td>1385.000000</td>\n",
       "      <td>1385.000000</td>\n",
       "      <td>1385.000000</td>\n",
       "      <td>1385.000000</td>\n",
       "      <td>1385.000000</td>\n",
       "      <td>1385.000000</td>\n",
       "      <td>...</td>\n",
       "      <td>1385.000000</td>\n",
       "      <td>1385.000000</td>\n",
       "      <td>1385.000000</td>\n",
       "      <td>1.385000e+03</td>\n",
       "      <td>1.385000e+03</td>\n",
       "      <td>1.385000e+03</td>\n",
       "      <td>1385.000000</td>\n",
       "      <td>1385.000000</td>\n",
       "      <td>1385.000000</td>\n",
       "      <td>1385.000000</td>\n",
       "    </tr>\n",
       "    <tr>\n",
       "      <td>mean</td>\n",
       "      <td>46.319134</td>\n",
       "      <td>1.489531</td>\n",
       "      <td>28.608664</td>\n",
       "      <td>1.515523</td>\n",
       "      <td>1.502527</td>\n",
       "      <td>1.496029</td>\n",
       "      <td>1.502527</td>\n",
       "      <td>1.498917</td>\n",
       "      <td>1.501083</td>\n",
       "      <td>1.503971</td>\n",
       "      <td>...</td>\n",
       "      <td>83.117690</td>\n",
       "      <td>83.629603</td>\n",
       "      <td>33.438267</td>\n",
       "      <td>5.909512e+05</td>\n",
       "      <td>6.008956e+05</td>\n",
       "      <td>2.887536e+05</td>\n",
       "      <td>287660.336462</td>\n",
       "      <td>291378.290975</td>\n",
       "      <td>9.761733</td>\n",
       "      <td>2.536462</td>\n",
       "    </tr>\n",
       "    <tr>\n",
       "      <td>std</td>\n",
       "      <td>8.781506</td>\n",
       "      <td>0.500071</td>\n",
       "      <td>4.076215</td>\n",
       "      <td>0.499939</td>\n",
       "      <td>0.500174</td>\n",
       "      <td>0.500165</td>\n",
       "      <td>0.500174</td>\n",
       "      <td>0.500179</td>\n",
       "      <td>0.500179</td>\n",
       "      <td>0.500165</td>\n",
       "      <td>...</td>\n",
       "      <td>26.399031</td>\n",
       "      <td>26.223955</td>\n",
       "      <td>7.073569</td>\n",
       "      <td>3.539354e+05</td>\n",
       "      <td>3.623151e+05</td>\n",
       "      <td>2.853507e+05</td>\n",
       "      <td>264559.525070</td>\n",
       "      <td>267700.691713</td>\n",
       "      <td>4.023896</td>\n",
       "      <td>1.121392</td>\n",
       "    </tr>\n",
       "    <tr>\n",
       "      <td>min</td>\n",
       "      <td>32.000000</td>\n",
       "      <td>1.000000</td>\n",
       "      <td>22.000000</td>\n",
       "      <td>1.000000</td>\n",
       "      <td>1.000000</td>\n",
       "      <td>1.000000</td>\n",
       "      <td>1.000000</td>\n",
       "      <td>1.000000</td>\n",
       "      <td>1.000000</td>\n",
       "      <td>1.000000</td>\n",
       "      <td>...</td>\n",
       "      <td>5.000000</td>\n",
       "      <td>5.000000</td>\n",
       "      <td>5.000000</td>\n",
       "      <td>1.100000e+01</td>\n",
       "      <td>5.000000e+00</td>\n",
       "      <td>5.000000e+00</td>\n",
       "      <td>5.000000</td>\n",
       "      <td>5.000000</td>\n",
       "      <td>3.000000</td>\n",
       "      <td>1.000000</td>\n",
       "    </tr>\n",
       "    <tr>\n",
       "      <td>25%</td>\n",
       "      <td>39.000000</td>\n",
       "      <td>1.000000</td>\n",
       "      <td>25.000000</td>\n",
       "      <td>1.000000</td>\n",
       "      <td>1.000000</td>\n",
       "      <td>1.000000</td>\n",
       "      <td>1.000000</td>\n",
       "      <td>1.000000</td>\n",
       "      <td>1.000000</td>\n",
       "      <td>1.000000</td>\n",
       "      <td>...</td>\n",
       "      <td>61.000000</td>\n",
       "      <td>61.000000</td>\n",
       "      <td>28.000000</td>\n",
       "      <td>2.692530e+05</td>\n",
       "      <td>2.708930e+05</td>\n",
       "      <td>5.000000e+00</td>\n",
       "      <td>5.000000</td>\n",
       "      <td>5.000000</td>\n",
       "      <td>6.000000</td>\n",
       "      <td>2.000000</td>\n",
       "    </tr>\n",
       "    <tr>\n",
       "      <td>50%</td>\n",
       "      <td>46.000000</td>\n",
       "      <td>1.000000</td>\n",
       "      <td>29.000000</td>\n",
       "      <td>2.000000</td>\n",
       "      <td>2.000000</td>\n",
       "      <td>1.000000</td>\n",
       "      <td>2.000000</td>\n",
       "      <td>1.000000</td>\n",
       "      <td>2.000000</td>\n",
       "      <td>2.000000</td>\n",
       "      <td>...</td>\n",
       "      <td>84.000000</td>\n",
       "      <td>83.000000</td>\n",
       "      <td>34.000000</td>\n",
       "      <td>5.931030e+05</td>\n",
       "      <td>5.978690e+05</td>\n",
       "      <td>2.343590e+05</td>\n",
       "      <td>251376.000000</td>\n",
       "      <td>244049.000000</td>\n",
       "      <td>10.000000</td>\n",
       "      <td>3.000000</td>\n",
       "    </tr>\n",
       "    <tr>\n",
       "      <td>75%</td>\n",
       "      <td>54.000000</td>\n",
       "      <td>2.000000</td>\n",
       "      <td>32.000000</td>\n",
       "      <td>2.000000</td>\n",
       "      <td>2.000000</td>\n",
       "      <td>2.000000</td>\n",
       "      <td>2.000000</td>\n",
       "      <td>2.000000</td>\n",
       "      <td>2.000000</td>\n",
       "      <td>2.000000</td>\n",
       "      <td>...</td>\n",
       "      <td>106.000000</td>\n",
       "      <td>106.000000</td>\n",
       "      <td>40.000000</td>\n",
       "      <td>8.867910e+05</td>\n",
       "      <td>9.090930e+05</td>\n",
       "      <td>5.248190e+05</td>\n",
       "      <td>517806.000000</td>\n",
       "      <td>527864.000000</td>\n",
       "      <td>13.000000</td>\n",
       "      <td>4.000000</td>\n",
       "    </tr>\n",
       "    <tr>\n",
       "      <td>max</td>\n",
       "      <td>61.000000</td>\n",
       "      <td>2.000000</td>\n",
       "      <td>35.000000</td>\n",
       "      <td>2.000000</td>\n",
       "      <td>2.000000</td>\n",
       "      <td>2.000000</td>\n",
       "      <td>2.000000</td>\n",
       "      <td>2.000000</td>\n",
       "      <td>2.000000</td>\n",
       "      <td>2.000000</td>\n",
       "      <td>...</td>\n",
       "      <td>128.000000</td>\n",
       "      <td>128.000000</td>\n",
       "      <td>45.000000</td>\n",
       "      <td>1.201086e+06</td>\n",
       "      <td>1.201715e+06</td>\n",
       "      <td>3.731527e+06</td>\n",
       "      <td>808450.000000</td>\n",
       "      <td>810333.000000</td>\n",
       "      <td>16.000000</td>\n",
       "      <td>4.000000</td>\n",
       "    </tr>\n",
       "  </tbody>\n",
       "</table>\n",
       "<p>8 rows × 29 columns</p>\n",
       "</div>"
      ],
      "text/plain": [
       "              Age        Gender          BMI        Fever  Nausea/Vomting  \\\n",
       "count  1385.000000  1385.000000  1385.000000  1385.000000     1385.000000   \n",
       "mean     46.319134     1.489531    28.608664     1.515523        1.502527   \n",
       "std       8.781506     0.500071     4.076215     0.499939        0.500174   \n",
       "min      32.000000     1.000000    22.000000     1.000000        1.000000   \n",
       "25%      39.000000     1.000000    25.000000     1.000000        1.000000   \n",
       "50%      46.000000     1.000000    29.000000     2.000000        2.000000   \n",
       "75%      54.000000     2.000000    32.000000     2.000000        2.000000   \n",
       "max      61.000000     2.000000    35.000000     2.000000        2.000000   \n",
       "\n",
       "         Headache     Diarrhea   Fatigue & generalized bone ache   \\\n",
       "count  1385.000000  1385.000000                       1385.000000   \n",
       "mean      1.496029     1.502527                          1.498917   \n",
       "std       0.500165     0.500174                          0.500179   \n",
       "min       1.000000     1.000000                          1.000000   \n",
       "25%       1.000000     1.000000                          1.000000   \n",
       "50%       1.000000     2.000000                          1.000000   \n",
       "75%       2.000000     2.000000                          2.000000   \n",
       "max       2.000000     2.000000                          2.000000   \n",
       "\n",
       "         Jaundice   Epigastric pain   ...       ALT 36       ALT 48  \\\n",
       "count  1385.000000       1385.000000  ...  1385.000000  1385.000000   \n",
       "mean      1.501083          1.503971  ...    83.117690    83.629603   \n",
       "std       0.500179          0.500165  ...    26.399031    26.223955   \n",
       "min       1.000000          1.000000  ...     5.000000     5.000000   \n",
       "25%       1.000000          1.000000  ...    61.000000    61.000000   \n",
       "50%       2.000000          2.000000  ...    84.000000    83.000000   \n",
       "75%       2.000000          2.000000  ...   106.000000   106.000000   \n",
       "max       2.000000          2.000000  ...   128.000000   128.000000   \n",
       "\n",
       "       ALT after 24 w      RNA Base         RNA 4        RNA 12  \\\n",
       "count     1385.000000  1.385000e+03  1.385000e+03  1.385000e+03   \n",
       "mean        33.438267  5.909512e+05  6.008956e+05  2.887536e+05   \n",
       "std          7.073569  3.539354e+05  3.623151e+05  2.853507e+05   \n",
       "min          5.000000  1.100000e+01  5.000000e+00  5.000000e+00   \n",
       "25%         28.000000  2.692530e+05  2.708930e+05  5.000000e+00   \n",
       "50%         34.000000  5.931030e+05  5.978690e+05  2.343590e+05   \n",
       "75%         40.000000  8.867910e+05  9.090930e+05  5.248190e+05   \n",
       "max         45.000000  1.201086e+06  1.201715e+06  3.731527e+06   \n",
       "\n",
       "             RNA EOT         RNA EF  Baseline histological Grading  \\\n",
       "count    1385.000000    1385.000000                    1385.000000   \n",
       "mean   287660.336462  291378.290975                       9.761733   \n",
       "std    264559.525070  267700.691713                       4.023896   \n",
       "min         5.000000       5.000000                       3.000000   \n",
       "25%         5.000000       5.000000                       6.000000   \n",
       "50%    251376.000000  244049.000000                      10.000000   \n",
       "75%    517806.000000  527864.000000                      13.000000   \n",
       "max    808450.000000  810333.000000                      16.000000   \n",
       "\n",
       "       Baselinehistological staging  \n",
       "count                   1385.000000  \n",
       "mean                       2.536462  \n",
       "std                        1.121392  \n",
       "min                        1.000000  \n",
       "25%                        2.000000  \n",
       "50%                        3.000000  \n",
       "75%                        4.000000  \n",
       "max                        4.000000  \n",
       "\n",
       "[8 rows x 29 columns]"
      ]
     },
     "execution_count": 49,
     "metadata": {},
     "output_type": "execute_result"
    }
   ],
   "source": [
    "print(\"Dataset:: \")\n",
    "df.head()\n",
    "df.info()\n",
    "df.describe()"
   ]
  },
  {
   "cell_type": "code",
   "execution_count": 50,
   "metadata": {},
   "outputs": [
    {
     "data": {
      "text/plain": [
       "1    717\n",
       "0    668\n",
       "Name: Baselinehistological staging, dtype: int64"
      ]
     },
     "execution_count": 50,
     "metadata": {},
     "output_type": "execute_result"
    }
   ],
   "source": [
    "# Label Encoding once more so that we get higher accuracy\n",
    "# we have 4 classes namely 4,3,2,1\n",
    "# It would be very beneficial if we combine 4 and 3 as 1 and 2 and 1 as 0\n",
    "df['Baselinehistological staging'].replace((4, 3, 2, 1), (1, 1, 0, 0), inplace = True)\n",
    "df['Baselinehistological staging'].value_counts()"
   ]
  },
  {
   "cell_type": "code",
   "execution_count": 51,
   "metadata": {},
   "outputs": [],
   "source": [
    "data=df.values\n",
    "X1 = data[:,0:-1] \n",
    "Y = data[:,-1]\n",
    " \n",
    "\"\"\" MIN MAX SCALER \"\"\"\n",
    "min_max_scaler = preprocessing.MinMaxScaler(feature_range =(0, 1)) \n",
    "# Scaled feature \n",
    "X2 = min_max_scaler.fit_transform(X1) \n",
    "\n",
    "  \n",
    "\"\"\" Standardisation \"\"\" \n",
    "Standardisation = preprocessing.StandardScaler() \n",
    "# Scaled feature \n",
    "X = Standardisation.fit_transform(X2) \n",
    "\n",
    "#Spliting Dataset into Test and Train\n",
    "X_train, X_test, y_train, y_test=train_test_split(X,Y,test_size=0.2, random_state=0)\n",
    "#Applying Standard scaling to get optimized result"
   ]
  },
  {
   "cell_type": "code",
   "execution_count": 52,
   "metadata": {},
   "outputs": [],
   "source": [
    "###remove constant,\n",
    "constant_filter=VarianceThreshold(threshold=0.01)\n",
    "constant_filter.fit(X_train)\n",
    "X_train_filter=constant_filter.transform(X_train)\n",
    "X_test_filter=constant_filter.transform(X_test)"
   ]
  },
  {
   "cell_type": "code",
   "execution_count": 53,
   "metadata": {},
   "outputs": [],
   "source": [
    "##duplicate features\n",
    "X_train_T=X_train_filter.T\n",
    "X_test_T=X_test_filter.T"
   ]
  },
  {
   "cell_type": "code",
   "execution_count": 54,
   "metadata": {},
   "outputs": [],
   "source": [
    "X_train_T=pd.DataFrame(X_train_T)\n",
    "X_test_T=pd.DataFrame(X_test_T)"
   ]
  },
  {
   "cell_type": "code",
   "execution_count": 55,
   "metadata": {},
   "outputs": [
    {
     "data": {
      "text/plain": [
       "0"
      ]
     },
     "execution_count": 55,
     "metadata": {},
     "output_type": "execute_result"
    }
   ],
   "source": [
    "X_train_T.duplicated().sum()"
   ]
  },
  {
   "cell_type": "code",
   "execution_count": 56,
   "metadata": {},
   "outputs": [],
   "source": [
    "####we have duplicate features here\n",
    "duplicated_features=X_train_T.duplicated()"
   ]
  },
  {
   "cell_type": "code",
   "execution_count": 57,
   "metadata": {},
   "outputs": [],
   "source": [
    "features_to_keep=[not index for index in duplicated_features]"
   ]
  },
  {
   "cell_type": "code",
   "execution_count": 58,
   "metadata": {},
   "outputs": [],
   "source": [
    "X_train_=X_train_T[features_to_keep].T\n",
    "X_test_=X_test_T[features_to_keep].T"
   ]
  },
  {
   "cell_type": "code",
   "execution_count": 59,
   "metadata": {},
   "outputs": [
    {
     "data": {
      "text/plain": [
       "((1108, 28), (277, 28))"
      ]
     },
     "execution_count": 59,
     "metadata": {},
     "output_type": "execute_result"
    }
   ],
   "source": [
    "X_train_.shape,X_test_.shape"
   ]
  },
  {
   "cell_type": "code",
   "execution_count": 60,
   "metadata": {},
   "outputs": [
    {
     "name": "stdout",
     "output_type": "stream",
     "text": [
      "[[76 72]\n",
      " [56 73]]\n",
      "              precision    recall  f1-score   support\n",
      "\n",
      "         0.0       0.58      0.51      0.54       148\n",
      "         1.0       0.50      0.57      0.53       129\n",
      "\n",
      "    accuracy                           0.54       277\n",
      "   macro avg       0.54      0.54      0.54       277\n",
      "weighted avg       0.54      0.54      0.54       277\n",
      "\n"
     ]
    },
    {
     "data": {
      "text/plain": [
       "0.5381952470044383"
      ]
     },
     "execution_count": 60,
     "metadata": {},
     "output_type": "execute_result"
    }
   ],
   "source": [
    "#Decision Tree Classifier\n",
    "#Function to perform training with Entropy\n",
    "dt=DecisionTreeClassifier(criterion=\"entropy\", random_state=0)\n",
    "dt.fit(X_train_, y_train)\n",
    "# Function to make prediction\n",
    "y_pred_en=dt.predict(X_test_)\n",
    "#checking performance of the model\n",
    "print(confusion_matrix(y_test, y_pred_en))\n",
    "print(classification_report(y_test, y_pred_en))\n",
    "f1_score(y_test, y_pred_en, average='weighted')\n"
   ]
  },
  {
   "cell_type": "code",
   "execution_count": 61,
   "metadata": {},
   "outputs": [
    {
     "name": "stdout",
     "output_type": "stream",
     "text": [
      "[[62 86]\n",
      " [50 79]]\n",
      "              precision    recall  f1-score   support\n",
      "\n",
      "         0.0       0.55      0.42      0.48       148\n",
      "         1.0       0.48      0.61      0.54       129\n",
      "\n",
      "    accuracy                           0.51       277\n",
      "   macro avg       0.52      0.52      0.51       277\n",
      "weighted avg       0.52      0.51      0.51       277\n",
      "\n"
     ]
    },
    {
     "data": {
      "text/plain": [
       "0.505094389880362"
      ]
     },
     "execution_count": 61,
     "metadata": {},
     "output_type": "execute_result"
    }
   ],
   "source": [
    "#Random Forest Classifier\n",
    "rfc=RandomForestClassifier(n_estimators=100, max_features=.2)\n",
    "rfc.fit(X_train_, y_train)\n",
    "predictionRF=rfc.predict(X_test_)\n",
    "#checking performance of the model\n",
    "print(confusion_matrix(y_test, predictionRF))\n",
    "print(classification_report(y_test, predictionRF))\n",
    "f1_score(y_test, predictionRF,average='weighted')\n"
   ]
  },
  {
   "cell_type": "code",
   "execution_count": 63,
   "metadata": {},
   "outputs": [
    {
     "data": {
      "text/plain": [
       "16.64331697709324"
      ]
     },
     "execution_count": 63,
     "metadata": {},
     "output_type": "execute_result"
    }
   ],
   "source": [
    "#define K\n",
    "import math\n",
    "math.sqrt(len(y_test))"
   ]
  },
  {
   "cell_type": "code",
   "execution_count": 64,
   "metadata": {},
   "outputs": [
    {
     "name": "stdout",
     "output_type": "stream",
     "text": [
      "[[51 97]\n",
      " [49 80]]\n",
      "              precision    recall  f1-score   support\n",
      "\n",
      "         0.0       0.51      0.34      0.41       148\n",
      "         1.0       0.45      0.62      0.52       129\n",
      "\n",
      "    accuracy                           0.47       277\n",
      "   macro avg       0.48      0.48      0.47       277\n",
      "weighted avg       0.48      0.47      0.46       277\n",
      "\n"
     ]
    },
    {
     "data": {
      "text/plain": [
       "0.4632561304479868"
      ]
     },
     "execution_count": 64,
     "metadata": {},
     "output_type": "execute_result"
    }
   ],
   "source": [
    "#K-NN classifier\n",
    "knn=KNeighborsClassifier(n_neighbors=15, p=2, metric='euclidean')\n",
    "\n",
    "#predict the test set results\n",
    "knn.fit(X_train_, y_train)\n",
    "predictionKNN=knn.predict(X_test_)\n",
    "#Evaluate model\n",
    "print(confusion_matrix(y_test, predictionKNN))\n",
    "print(classification_report(y_test, predictionKNN))\n",
    "f1_score(y_test, predictionKNN,average='weighted')"
   ]
  },
  {
   "cell_type": "code",
   "execution_count": 65,
   "metadata": {},
   "outputs": [
    {
     "name": "stderr",
     "output_type": "stream",
     "text": [
      "C:\\Users\\SARA\\Anaconda3\\lib\\site-packages\\sklearn\\svm\\base.py:193: FutureWarning: The default value of gamma will change from 'auto' to 'scale' in version 0.22 to account better for unscaled features. Set gamma explicitly to 'auto' or 'scale' to avoid this warning.\n",
      "  \"avoid this warning.\", FutureWarning)\n"
     ]
    },
    {
     "name": "stdout",
     "output_type": "stream",
     "text": [
      "[[60 88]\n",
      " [43 86]]\n",
      "              precision    recall  f1-score   support\n",
      "\n",
      "         0.0       0.58      0.41      0.48       148\n",
      "         1.0       0.49      0.67      0.57       129\n",
      "\n",
      "    accuracy                           0.53       277\n",
      "   macro avg       0.54      0.54      0.52       277\n",
      "weighted avg       0.54      0.53      0.52       277\n",
      "\n"
     ]
    },
    {
     "data": {
      "text/plain": [
       "0.5198003425409062"
      ]
     },
     "execution_count": 65,
     "metadata": {},
     "output_type": "execute_result"
    }
   ],
   "source": [
    "# svm Classifier\n",
    "clf=svm.SVC(kernel=\"rbf\", C=1)\n",
    "clf.fit(X_train_,y_train)\n",
    "predictionSVM=clf.predict(X_test_)\n",
    "\n",
    "#Evaluate model\n",
    "print(confusion_matrix(y_test, predictionSVM))\n",
    "print(classification_report(y_test, predictionSVM))\n",
    "f1_score(y_test, predictionSVM,average='weighted')\n"
   ]
  },
  {
   "cell_type": "code",
   "execution_count": 66,
   "metadata": {},
   "outputs": [
    {
     "name": "stdout",
     "output_type": "stream",
     "text": [
      "[[82 66]\n",
      " [75 54]]\n",
      "              precision    recall  f1-score   support\n",
      "\n",
      "         0.0       0.52      0.55      0.54       148\n",
      "         1.0       0.45      0.42      0.43       129\n",
      "\n",
      "    accuracy                           0.49       277\n",
      "   macro avg       0.49      0.49      0.49       277\n",
      "weighted avg       0.49      0.49      0.49       277\n",
      "\n"
     ]
    },
    {
     "data": {
      "text/plain": [
       "0.4892856862735311"
      ]
     },
     "execution_count": 66,
     "metadata": {},
     "output_type": "execute_result"
    }
   ],
   "source": [
    "#Bagging Classifier\n",
    "bg=BaggingClassifier(DecisionTreeClassifier(), max_samples=0.5, max_features=1.0, n_estimators=10)\n",
    "bg=BaggingClassifier()\n",
    "bg.fit(X_train_,y_train)\n",
    "predictionbg=bg.predict(X_test_)\n",
    "\n",
    "#Evaluate model\n",
    "print(confusion_matrix(y_test, predictionbg))\n",
    "print(classification_report(y_test, predictionbg))\n",
    "f1_score(y_test, predictionbg,average='weighted')"
   ]
  },
  {
   "cell_type": "code",
   "execution_count": 67,
   "metadata": {},
   "outputs": [
    {
     "name": "stdout",
     "output_type": "stream",
     "text": [
      "[[68 80]\n",
      " [65 64]]\n",
      "              precision    recall  f1-score   support\n",
      "\n",
      "         0.0       0.51      0.46      0.48       148\n",
      "         1.0       0.44      0.50      0.47       129\n",
      "\n",
      "    accuracy                           0.48       277\n",
      "   macro avg       0.48      0.48      0.48       277\n",
      "weighted avg       0.48      0.48      0.48       277\n",
      "\n"
     ]
    },
    {
     "data": {
      "text/plain": [
       "0.47694371740776403"
      ]
     },
     "execution_count": 67,
     "metadata": {},
     "output_type": "execute_result"
    }
   ],
   "source": [
    "#Boosting Classifier- Ada Boost\n",
    "adb=AdaBoostClassifier(DecisionTreeClassifier(), n_estimators=10, learning_rate=1)\n",
    "adb.fit(X_train_,y_train)\n",
    "predictionadb=adb.predict(X_test_)\n",
    "\n",
    "#Evaluate model\n",
    "print(confusion_matrix(y_test, predictionadb))\n",
    "print(classification_report(y_test, predictionadb))\n",
    "f1_score(y_test, predictionadb,average='weighted')"
   ]
  },
  {
   "cell_type": "code",
   "execution_count": 68,
   "metadata": {},
   "outputs": [
    {
     "name": "stdout",
     "output_type": "stream",
     "text": [
      "[[53 95]\n",
      " [46 83]]\n",
      "              precision    recall  f1-score   support\n",
      "\n",
      "         0.0       0.54      0.36      0.43       148\n",
      "         1.0       0.47      0.64      0.54       129\n",
      "\n",
      "    accuracy                           0.49       277\n",
      "   macro avg       0.50      0.50      0.48       277\n",
      "weighted avg       0.50      0.49      0.48       277\n",
      "\n"
     ]
    },
    {
     "data": {
      "text/plain": [
       "0.48110690627158303"
      ]
     },
     "execution_count": 68,
     "metadata": {},
     "output_type": "execute_result"
    }
   ],
   "source": [
    "#Naive bayse Classifier\n",
    "nb=GaussianNB()\n",
    "nb.fit(X_train_,y_train)\n",
    "predictionnb=nb.predict(X_test_)\n",
    "\n",
    "#Evaluate model\n",
    "print(confusion_matrix(y_test, predictionnb))\n",
    "print(classification_report(y_test, predictionnb))\n",
    "f1_score(y_test, predictionnb,average='weighted', labels=np.unique(predictionnb))"
   ]
  },
  {
   "cell_type": "code",
   "execution_count": 69,
   "metadata": {},
   "outputs": [
    {
     "name": "stdout",
     "output_type": "stream",
     "text": [
      "[[ 37 111]\n",
      " [ 21 108]]\n",
      "              precision    recall  f1-score   support\n",
      "\n",
      "         0.0       0.64      0.25      0.36       148\n",
      "         1.0       0.49      0.84      0.62       129\n",
      "\n",
      "    accuracy                           0.52       277\n",
      "   macro avg       0.57      0.54      0.49       277\n",
      "weighted avg       0.57      0.52      0.48       277\n",
      "\n"
     ]
    },
    {
     "data": {
      "text/plain": [
       "0.4809892204365729"
      ]
     },
     "execution_count": 69,
     "metadata": {},
     "output_type": "execute_result"
    }
   ],
   "source": [
    "#creat Multilayer neural network Classifier\n",
    "nn=MLPClassifier(solver='lbfgs', alpha=1e-5,hidden_layer_sizes=(5, 2), random_state=1)\n",
    "nn.fit(X_train_,y_train)\n",
    "predictionNN=nn.predict(X_test_)\n",
    "\n",
    "#Evaluate model\n",
    "print(confusion_matrix(y_test, predictionNN))\n",
    "print(classification_report(y_test, predictionNN))\n",
    "f1_score(y_test, predictionNN,average='weighted', labels=np.unique(predictionNN))\n"
   ]
  },
  {
   "cell_type": "code",
   "execution_count": 70,
   "metadata": {},
   "outputs": [
    {
     "name": "stderr",
     "output_type": "stream",
     "text": [
      "C:\\Users\\SARA\\Anaconda3\\lib\\site-packages\\sklearn\\svm\\base.py:193: FutureWarning: The default value of gamma will change from 'auto' to 'scale' in version 0.22 to account better for unscaled features. Set gamma explicitly to 'auto' or 'scale' to avoid this warning.\n",
      "  \"avoid this warning.\", FutureWarning)\n"
     ]
    },
    {
     "name": "stdout",
     "output_type": "stream",
     "text": [
      "[[59 89]\n",
      " [50 79]]\n",
      "              precision    recall  f1-score   support\n",
      "\n",
      "         0.0       0.54      0.40      0.46       148\n",
      "         1.0       0.47      0.61      0.53       129\n",
      "\n",
      "    accuracy                           0.50       277\n",
      "   macro avg       0.51      0.51      0.50       277\n",
      "weighted avg       0.51      0.50      0.49       277\n",
      "\n"
     ]
    },
    {
     "data": {
      "text/plain": [
       "0.4930670397807175"
      ]
     },
     "execution_count": 70,
     "metadata": {},
     "output_type": "execute_result"
    }
   ],
   "source": [
    "#Voting Classifier- Multiple Model Ensemble\n",
    "evc=VotingClassifier(estimators=[('dt',dt),('rfc',rfc),('clf',clf),('knn',knn),('bg',bg),('adb',adb),('nb',nb),('nn',nn)], voting='hard')\n",
    "evc.fit(X_train_,y_train)\n",
    "predictionevc=evc.predict(X_test_)\n",
    "\n",
    "#Evaluate model\n",
    "print(confusion_matrix(y_test, predictionevc))\n",
    "print(classification_report(y_test, predictionevc))\n",
    "f1_score(y_test, predictionevc,average='weighted', labels=np.unique(predictionevc))"
   ]
  },
  {
   "cell_type": "code",
   "execution_count": 71,
   "metadata": {},
   "outputs": [],
   "source": [
    "#defining learning classifiers\n",
    "names=[\"Decision_Tree\", \"Random_Forest\", \"linear_SVM\",\"Nearest_Neighbors\",\"Bagging\",\"AdaBoost\",\"Naive_Bayes\",\"Neural_Net\",\"Vothing_classifier\"]\n",
    "classifiers = [dt,rfc,clf,knn,bg,adb,nb,nn,evc]"
   ]
  },
  {
   "cell_type": "code",
   "execution_count": 72,
   "metadata": {},
   "outputs": [
    {
     "name": "stderr",
     "output_type": "stream",
     "text": [
      "C:\\Users\\SARA\\Anaconda3\\lib\\site-packages\\sklearn\\svm\\base.py:193: FutureWarning: The default value of gamma will change from 'auto' to 'scale' in version 0.22 to account better for unscaled features. Set gamma explicitly to 'auto' or 'scale' to avoid this warning.\n",
      "  \"avoid this warning.\", FutureWarning)\n",
      "C:\\Users\\SARA\\Anaconda3\\lib\\site-packages\\sklearn\\svm\\base.py:193: FutureWarning: The default value of gamma will change from 'auto' to 'scale' in version 0.22 to account better for unscaled features. Set gamma explicitly to 'auto' or 'scale' to avoid this warning.\n",
      "  \"avoid this warning.\", FutureWarning)\n"
     ]
    }
   ],
   "source": [
    "#Build Model, Apply Model on Test Data & Record Accuracy Scores\n",
    "scores = []\n",
    "for name, clf in zip(names, classifiers):\n",
    "    clf.fit(X_train_, y_train)\n",
    "    prediction=clf.predict(X_test_)\n",
    "    score=f1_score(y_test, prediction,average='weighted', labels=np.unique(prediction))\n",
    "    scores.append(score)"
   ]
  },
  {
   "cell_type": "code",
   "execution_count": 73,
   "metadata": {},
   "outputs": [
    {
     "data": {
      "text/plain": [
       "[0.5381952470044383,\n",
       " 0.5017933938695524,\n",
       " 0.5198003425409062,\n",
       " 0.4632561304479868,\n",
       " 0.4965298609363179,\n",
       " 0.47590651658125993,\n",
       " 0.48110690627158303,\n",
       " 0.4809892204365729,\n",
       " 0.4825180524324173]"
      ]
     },
     "execution_count": 73,
     "metadata": {},
     "output_type": "execute_result"
    }
   ],
   "source": [
    "scores"
   ]
  },
  {
   "cell_type": "code",
   "execution_count": 74,
   "metadata": {},
   "outputs": [
    {
     "data": {
      "text/html": [
       "<div>\n",
       "<style scoped>\n",
       "    .dataframe tbody tr th:only-of-type {\n",
       "        vertical-align: middle;\n",
       "    }\n",
       "\n",
       "    .dataframe tbody tr th {\n",
       "        vertical-align: top;\n",
       "    }\n",
       "\n",
       "    .dataframe thead th {\n",
       "        text-align: right;\n",
       "    }\n",
       "</style>\n",
       "<table border=\"1\" class=\"dataframe\">\n",
       "  <thead>\n",
       "    <tr style=\"text-align: right;\">\n",
       "      <th></th>\n",
       "      <th>Machine Learning algorithms</th>\n",
       "      <th>F-measure of Transfusion</th>\n",
       "    </tr>\n",
       "  </thead>\n",
       "  <tbody>\n",
       "    <tr>\n",
       "      <td>0</td>\n",
       "      <td>Decision_Tree</td>\n",
       "      <td>0.538195</td>\n",
       "    </tr>\n",
       "    <tr>\n",
       "      <td>1</td>\n",
       "      <td>Random_Forest</td>\n",
       "      <td>0.501793</td>\n",
       "    </tr>\n",
       "    <tr>\n",
       "      <td>2</td>\n",
       "      <td>linear_SVM</td>\n",
       "      <td>0.519800</td>\n",
       "    </tr>\n",
       "    <tr>\n",
       "      <td>3</td>\n",
       "      <td>Nearest_Neighbors</td>\n",
       "      <td>0.463256</td>\n",
       "    </tr>\n",
       "    <tr>\n",
       "      <td>4</td>\n",
       "      <td>Bagging</td>\n",
       "      <td>0.496530</td>\n",
       "    </tr>\n",
       "    <tr>\n",
       "      <td>5</td>\n",
       "      <td>AdaBoost</td>\n",
       "      <td>0.475907</td>\n",
       "    </tr>\n",
       "    <tr>\n",
       "      <td>6</td>\n",
       "      <td>Naive_Bayes</td>\n",
       "      <td>0.481107</td>\n",
       "    </tr>\n",
       "    <tr>\n",
       "      <td>7</td>\n",
       "      <td>Neural_Net</td>\n",
       "      <td>0.480989</td>\n",
       "    </tr>\n",
       "    <tr>\n",
       "      <td>8</td>\n",
       "      <td>Vothing_classifier</td>\n",
       "      <td>0.482518</td>\n",
       "    </tr>\n",
       "  </tbody>\n",
       "</table>\n",
       "</div>"
      ],
      "text/plain": [
       "  Machine Learning algorithms  F-measure of Transfusion\n",
       "0               Decision_Tree                  0.538195\n",
       "1               Random_Forest                  0.501793\n",
       "2                  linear_SVM                  0.519800\n",
       "3           Nearest_Neighbors                  0.463256\n",
       "4                     Bagging                  0.496530\n",
       "5                    AdaBoost                  0.475907\n",
       "6                 Naive_Bayes                  0.481107\n",
       "7                  Neural_Net                  0.480989\n",
       "8          Vothing_classifier                  0.482518"
      ]
     },
     "execution_count": 74,
     "metadata": {},
     "output_type": "execute_result"
    }
   ],
   "source": [
    "#create data frame of model performance\n",
    "df = pd.DataFrame()\n",
    "df['Machine Learning algorithms'] = names\n",
    "df['F-measure of Transfusion'] = scores \n",
    "df"
   ]
  },
  {
   "cell_type": "code",
   "execution_count": 75,
   "metadata": {},
   "outputs": [
    {
     "data": {
      "text/html": [
       "<style  type=\"text/css\" >\n",
       "    #T_b069e450_1e3d_11eb_880a_d053490e15f2row0_col1 {\n",
       "            background-color:  #ffbf00;\n",
       "            color:  #000000;\n",
       "        }    #T_b069e450_1e3d_11eb_880a_d053490e15f2row1_col1 {\n",
       "            background-color:  #ffdb70;\n",
       "            color:  #000000;\n",
       "        }    #T_b069e450_1e3d_11eb_880a_d053490e15f2row2_col1 {\n",
       "            background-color:  #ffcd38;\n",
       "            color:  #000000;\n",
       "        }    #T_b069e450_1e3d_11eb_880a_d053490e15f2row3_col1 {\n",
       "            background-color:  #fff9e5;\n",
       "            color:  #000000;\n",
       "        }    #T_b069e450_1e3d_11eb_880a_d053490e15f2row4_col1 {\n",
       "            background-color:  #ffdf80;\n",
       "            color:  #000000;\n",
       "        }    #T_b069e450_1e3d_11eb_880a_d053490e15f2row5_col1 {\n",
       "            background-color:  #ffefbf;\n",
       "            color:  #000000;\n",
       "        }    #T_b069e450_1e3d_11eb_880a_d053490e15f2row6_col1 {\n",
       "            background-color:  #ffebb0;\n",
       "            color:  #000000;\n",
       "        }    #T_b069e450_1e3d_11eb_880a_d053490e15f2row7_col1 {\n",
       "            background-color:  #ffebb0;\n",
       "            color:  #000000;\n",
       "        }    #T_b069e450_1e3d_11eb_880a_d053490e15f2row8_col1 {\n",
       "            background-color:  #ffeaab;\n",
       "            color:  #000000;\n",
       "        }</style><table id=\"T_b069e450_1e3d_11eb_880a_d053490e15f2\" ><thead>    <tr>        <th class=\"blank level0\" ></th>        <th class=\"col_heading level0 col0\" >Machine Learning algorithms</th>        <th class=\"col_heading level0 col1\" >F-measure of Transfusion</th>    </tr></thead><tbody>\n",
       "                <tr>\n",
       "                        <th id=\"T_b069e450_1e3d_11eb_880a_d053490e15f2level0_row0\" class=\"row_heading level0 row0\" >0</th>\n",
       "                        <td id=\"T_b069e450_1e3d_11eb_880a_d053490e15f2row0_col0\" class=\"data row0 col0\" >Decision_Tree</td>\n",
       "                        <td id=\"T_b069e450_1e3d_11eb_880a_d053490e15f2row0_col1\" class=\"data row0 col1\" >0.538195</td>\n",
       "            </tr>\n",
       "            <tr>\n",
       "                        <th id=\"T_b069e450_1e3d_11eb_880a_d053490e15f2level0_row1\" class=\"row_heading level0 row1\" >1</th>\n",
       "                        <td id=\"T_b069e450_1e3d_11eb_880a_d053490e15f2row1_col0\" class=\"data row1 col0\" >Random_Forest</td>\n",
       "                        <td id=\"T_b069e450_1e3d_11eb_880a_d053490e15f2row1_col1\" class=\"data row1 col1\" >0.501793</td>\n",
       "            </tr>\n",
       "            <tr>\n",
       "                        <th id=\"T_b069e450_1e3d_11eb_880a_d053490e15f2level0_row2\" class=\"row_heading level0 row2\" >2</th>\n",
       "                        <td id=\"T_b069e450_1e3d_11eb_880a_d053490e15f2row2_col0\" class=\"data row2 col0\" >linear_SVM</td>\n",
       "                        <td id=\"T_b069e450_1e3d_11eb_880a_d053490e15f2row2_col1\" class=\"data row2 col1\" >0.5198</td>\n",
       "            </tr>\n",
       "            <tr>\n",
       "                        <th id=\"T_b069e450_1e3d_11eb_880a_d053490e15f2level0_row3\" class=\"row_heading level0 row3\" >3</th>\n",
       "                        <td id=\"T_b069e450_1e3d_11eb_880a_d053490e15f2row3_col0\" class=\"data row3 col0\" >Nearest_Neighbors</td>\n",
       "                        <td id=\"T_b069e450_1e3d_11eb_880a_d053490e15f2row3_col1\" class=\"data row3 col1\" >0.463256</td>\n",
       "            </tr>\n",
       "            <tr>\n",
       "                        <th id=\"T_b069e450_1e3d_11eb_880a_d053490e15f2level0_row4\" class=\"row_heading level0 row4\" >4</th>\n",
       "                        <td id=\"T_b069e450_1e3d_11eb_880a_d053490e15f2row4_col0\" class=\"data row4 col0\" >Bagging</td>\n",
       "                        <td id=\"T_b069e450_1e3d_11eb_880a_d053490e15f2row4_col1\" class=\"data row4 col1\" >0.49653</td>\n",
       "            </tr>\n",
       "            <tr>\n",
       "                        <th id=\"T_b069e450_1e3d_11eb_880a_d053490e15f2level0_row5\" class=\"row_heading level0 row5\" >5</th>\n",
       "                        <td id=\"T_b069e450_1e3d_11eb_880a_d053490e15f2row5_col0\" class=\"data row5 col0\" >AdaBoost</td>\n",
       "                        <td id=\"T_b069e450_1e3d_11eb_880a_d053490e15f2row5_col1\" class=\"data row5 col1\" >0.475907</td>\n",
       "            </tr>\n",
       "            <tr>\n",
       "                        <th id=\"T_b069e450_1e3d_11eb_880a_d053490e15f2level0_row6\" class=\"row_heading level0 row6\" >6</th>\n",
       "                        <td id=\"T_b069e450_1e3d_11eb_880a_d053490e15f2row6_col0\" class=\"data row6 col0\" >Naive_Bayes</td>\n",
       "                        <td id=\"T_b069e450_1e3d_11eb_880a_d053490e15f2row6_col1\" class=\"data row6 col1\" >0.481107</td>\n",
       "            </tr>\n",
       "            <tr>\n",
       "                        <th id=\"T_b069e450_1e3d_11eb_880a_d053490e15f2level0_row7\" class=\"row_heading level0 row7\" >7</th>\n",
       "                        <td id=\"T_b069e450_1e3d_11eb_880a_d053490e15f2row7_col0\" class=\"data row7 col0\" >Neural_Net</td>\n",
       "                        <td id=\"T_b069e450_1e3d_11eb_880a_d053490e15f2row7_col1\" class=\"data row7 col1\" >0.480989</td>\n",
       "            </tr>\n",
       "            <tr>\n",
       "                        <th id=\"T_b069e450_1e3d_11eb_880a_d053490e15f2level0_row8\" class=\"row_heading level0 row8\" >8</th>\n",
       "                        <td id=\"T_b069e450_1e3d_11eb_880a_d053490e15f2row8_col0\" class=\"data row8 col0\" >Vothing_classifier</td>\n",
       "                        <td id=\"T_b069e450_1e3d_11eb_880a_d053490e15f2row8_col1\" class=\"data row8 col1\" >0.482518</td>\n",
       "            </tr>\n",
       "    </tbody></table>"
      ],
      "text/plain": [
       "<pandas.io.formats.style.Styler at 0x2bf3954d7c8>"
      ]
     },
     "execution_count": 75,
     "metadata": {},
     "output_type": "execute_result"
    }
   ],
   "source": [
    "#adding colors to the data frame\n",
    "cm = sns.light_palette(\"#FFBF00\", as_cmap=True)\n",
    "s = df.style.background_gradient(cmap=cm)\n",
    "s"
   ]
  },
  {
   "cell_type": "code",
   "execution_count": 76,
   "metadata": {},
   "outputs": [
    {
     "data": {
      "image/png": "[encoded data removed]",
      "text/plain": [
       "<Figure size 432x288 with 1 Axes>"
      ]
     },
     "metadata": {},
     "output_type": "display_data"
    }
   ],
   "source": [
    "#Bar plot of model performance\n",
    "sns.set(style=\"whitegrid\")\n",
    "ax = sns.barplot(y=\"Machine Learning algorithms\", x=\"F-measure of Transfusion\", data=df)\n"
   ]
  },
  {
   "cell_type": "code",
   "execution_count": null,
   "metadata": {},
   "outputs": [],
   "source": []
  }
 ],
 "metadata": {
  "kernelspec": {
   "display_name": "Python 3",
   "language": "python",
   "name": "python3"
  },
  "language_info": {
   "codemirror_mode": {
    "name": "ipython",
    "version": 3
   },
   "file_extension": ".py",
   "mimetype": "text/x-python",
   "name": "python",
   "nbconvert_exporter": "python",
   "pygments_lexer": "ipython3",
   "version": "3.7.4"
  },
  "widgets": {
   "application/vnd.jupyter.widget-state+json": {
    "state": {},
    "version_major": 2,
    "version_minor": 0
   }
  }
 },
 "nbformat": 4,
 "nbformat_minor": 2
}
