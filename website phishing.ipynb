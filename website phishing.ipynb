{
 "cells": [
  {
   "cell_type": "code",
   "execution_count": 1,
   "metadata": {},
   "outputs": [],
   "source": [
    "import numpy as np\n",
    "import pandas as pd\n",
    "import seaborn as sns\n",
    "import matplotlib.pyplot as plt\n",
    "from sklearn import model_selection\n",
    "from sklearn.model_selection import train_test_split, cross_val_score\n",
    "from sklearn.preprocessing import StandardScaler\n",
    "from sklearn import tree\n",
    "from sklearn.tree import DecisionTreeClassifier\n",
    "from sklearn.ensemble import RandomForestClassifier, BaggingClassifier, AdaBoostClassifier, VotingClassifier\n",
    "from sklearn.neighbors import KNeighborsClassifier\n",
    "from sklearn.linear_model import LogisticRegression\n",
    "from sklearn import svm\n",
    "from sklearn.svm import SVC\n",
    "from sklearn.neural_network import MLPClassifier\n",
    "from sklearn.naive_bayes import GaussianNB\n",
    "from sklearn.datasets.samples_generator import make_blobs\n",
    "from sklearn.metrics import confusion_matrix,accuracy_score, classification_report, f1_score, precision_recall_curve\n",
    "from sklearn.discriminant_analysis import QuadraticDiscriminantAnalysis\n",
    "from sklearn.linear_model import SGDClassifier\n",
    "from sklearn.datasets import make_classification\n",
    "from sklearn.metrics import roc_curve, roc_auc_score,auc\n",
    "from sklearn.feature_selection import VarianceThreshold,mutual_info_classif,mutual_info_regression\n",
    "import matplotlib.pyplot as plt\n",
    "from sklearn.feature_selection import SelectFromModel,SelectKBest,SelectPercentile\n",
    "from sklearn import preprocessing \n",
    "from sklearn.preprocessing import MinMaxScaler \n"
   ]
  },
  {
   "cell_type": "code",
   "execution_count": 2,
   "metadata": {},
   "outputs": [],
   "source": [
    "#loading data file\n",
    "#dataset source:https://archive.ics.uci.edu/ml/datasets/Website+Phishing\n",
    "fullFileName='C:/Users/SARA/Desktop/D I C/9351/travail pratique 1/dataset/PhishingData.csv'\n",
    "data= pd.read_csv(fullFileName, sep=',', header=0)"
   ]
  },
  {
   "cell_type": "code",
   "execution_count": 3,
   "metadata": {},
   "outputs": [],
   "source": [
    "df = data.drop('id', axis = 1)"
   ]
  },
  {
   "cell_type": "code",
   "execution_count": 4,
   "metadata": {},
   "outputs": [
    {
     "name": "stdout",
     "output_type": "stream",
     "text": [
      "Dataset shape::  (1353, 10)\n",
      "Dataset Lenght::  1353\n"
     ]
    },
    {
     "data": {
      "text/plain": [
       "SFH                  0\n",
       "popUpWidnow          0\n",
       "SSLfinal_State       0\n",
       "Request_URL          0\n",
       "URL_of_Anchor        0\n",
       "web_traffic          0\n",
       "URL_Length           0\n",
       "age_of_domain        0\n",
       "having_IP_Address    0\n",
       "Result               0\n",
       "dtype: int64"
      ]
     },
     "execution_count": 4,
     "metadata": {},
     "output_type": "execute_result"
    }
   ],
   "source": [
    "print(\"Dataset shape:: \", df.shape)\n",
    "print(\"Dataset Lenght:: \",len(df))\n",
    "df.isnull().sum(axis=0)"
   ]
  },
  {
   "cell_type": "code",
   "execution_count": 5,
   "metadata": {},
   "outputs": [
    {
     "name": "stdout",
     "output_type": "stream",
     "text": [
      "Dataset:: \n",
      "<class 'pandas.core.frame.DataFrame'>\n",
      "RangeIndex: 1353 entries, 0 to 1352\n",
      "Data columns (total 10 columns):\n",
      "SFH                  1353 non-null int64\n",
      "popUpWidnow          1353 non-null int64\n",
      "SSLfinal_State       1353 non-null int64\n",
      "Request_URL          1353 non-null int64\n",
      "URL_of_Anchor        1353 non-null int64\n",
      "web_traffic          1353 non-null int64\n",
      "URL_Length           1353 non-null int64\n",
      "age_of_domain        1353 non-null int64\n",
      "having_IP_Address    1353 non-null int64\n",
      "Result               1353 non-null int64\n",
      "dtypes: int64(10)\n",
      "memory usage: 105.8 KB\n"
     ]
    },
    {
     "data": {
      "text/html": [
       "<div>\n",
       "<style scoped>\n",
       "    .dataframe tbody tr th:only-of-type {\n",
       "        vertical-align: middle;\n",
       "    }\n",
       "\n",
       "    .dataframe tbody tr th {\n",
       "        vertical-align: top;\n",
       "    }\n",
       "\n",
       "    .dataframe thead th {\n",
       "        text-align: right;\n",
       "    }\n",
       "</style>\n",
       "<table border=\"1\" class=\"dataframe\">\n",
       "  <thead>\n",
       "    <tr style=\"text-align: right;\">\n",
       "      <th></th>\n",
       "      <th>SFH</th>\n",
       "      <th>popUpWidnow</th>\n",
       "      <th>SSLfinal_State</th>\n",
       "      <th>Request_URL</th>\n",
       "      <th>URL_of_Anchor</th>\n",
       "      <th>web_traffic</th>\n",
       "      <th>URL_Length</th>\n",
       "      <th>age_of_domain</th>\n",
       "      <th>having_IP_Address</th>\n",
       "      <th>Result</th>\n",
       "    </tr>\n",
       "  </thead>\n",
       "  <tbody>\n",
       "    <tr>\n",
       "      <td>count</td>\n",
       "      <td>1353.000000</td>\n",
       "      <td>1353.000000</td>\n",
       "      <td>1353.000000</td>\n",
       "      <td>1353.000000</td>\n",
       "      <td>1353.000000</td>\n",
       "      <td>1353.000000</td>\n",
       "      <td>1353.000000</td>\n",
       "      <td>1353.000000</td>\n",
       "      <td>1353.000000</td>\n",
       "      <td>1353.000000</td>\n",
       "    </tr>\n",
       "    <tr>\n",
       "      <td>mean</td>\n",
       "      <td>0.237990</td>\n",
       "      <td>-0.258684</td>\n",
       "      <td>0.327421</td>\n",
       "      <td>-0.223208</td>\n",
       "      <td>-0.025129</td>\n",
       "      <td>0.000000</td>\n",
       "      <td>-0.053215</td>\n",
       "      <td>0.219512</td>\n",
       "      <td>0.114560</td>\n",
       "      <td>-0.113821</td>\n",
       "    </tr>\n",
       "    <tr>\n",
       "      <td>std</td>\n",
       "      <td>0.916389</td>\n",
       "      <td>0.679072</td>\n",
       "      <td>0.822193</td>\n",
       "      <td>0.799682</td>\n",
       "      <td>0.936262</td>\n",
       "      <td>0.806776</td>\n",
       "      <td>0.762552</td>\n",
       "      <td>0.975970</td>\n",
       "      <td>0.318608</td>\n",
       "      <td>0.954773</td>\n",
       "    </tr>\n",
       "    <tr>\n",
       "      <td>min</td>\n",
       "      <td>-1.000000</td>\n",
       "      <td>-1.000000</td>\n",
       "      <td>-1.000000</td>\n",
       "      <td>-1.000000</td>\n",
       "      <td>-1.000000</td>\n",
       "      <td>-1.000000</td>\n",
       "      <td>-1.000000</td>\n",
       "      <td>-1.000000</td>\n",
       "      <td>0.000000</td>\n",
       "      <td>-1.000000</td>\n",
       "    </tr>\n",
       "    <tr>\n",
       "      <td>25%</td>\n",
       "      <td>-1.000000</td>\n",
       "      <td>-1.000000</td>\n",
       "      <td>0.000000</td>\n",
       "      <td>-1.000000</td>\n",
       "      <td>-1.000000</td>\n",
       "      <td>-1.000000</td>\n",
       "      <td>-1.000000</td>\n",
       "      <td>-1.000000</td>\n",
       "      <td>0.000000</td>\n",
       "      <td>-1.000000</td>\n",
       "    </tr>\n",
       "    <tr>\n",
       "      <td>50%</td>\n",
       "      <td>1.000000</td>\n",
       "      <td>0.000000</td>\n",
       "      <td>1.000000</td>\n",
       "      <td>0.000000</td>\n",
       "      <td>0.000000</td>\n",
       "      <td>0.000000</td>\n",
       "      <td>0.000000</td>\n",
       "      <td>1.000000</td>\n",
       "      <td>0.000000</td>\n",
       "      <td>-1.000000</td>\n",
       "    </tr>\n",
       "    <tr>\n",
       "      <td>75%</td>\n",
       "      <td>1.000000</td>\n",
       "      <td>0.000000</td>\n",
       "      <td>1.000000</td>\n",
       "      <td>0.000000</td>\n",
       "      <td>1.000000</td>\n",
       "      <td>1.000000</td>\n",
       "      <td>1.000000</td>\n",
       "      <td>1.000000</td>\n",
       "      <td>0.000000</td>\n",
       "      <td>1.000000</td>\n",
       "    </tr>\n",
       "    <tr>\n",
       "      <td>max</td>\n",
       "      <td>1.000000</td>\n",
       "      <td>1.000000</td>\n",
       "      <td>1.000000</td>\n",
       "      <td>1.000000</td>\n",
       "      <td>1.000000</td>\n",
       "      <td>1.000000</td>\n",
       "      <td>1.000000</td>\n",
       "      <td>1.000000</td>\n",
       "      <td>1.000000</td>\n",
       "      <td>1.000000</td>\n",
       "    </tr>\n",
       "  </tbody>\n",
       "</table>\n",
       "</div>"
      ],
      "text/plain": [
       "               SFH  popUpWidnow  SSLfinal_State  Request_URL  URL_of_Anchor  \\\n",
       "count  1353.000000  1353.000000     1353.000000  1353.000000    1353.000000   \n",
       "mean      0.237990    -0.258684        0.327421    -0.223208      -0.025129   \n",
       "std       0.916389     0.679072        0.822193     0.799682       0.936262   \n",
       "min      -1.000000    -1.000000       -1.000000    -1.000000      -1.000000   \n",
       "25%      -1.000000    -1.000000        0.000000    -1.000000      -1.000000   \n",
       "50%       1.000000     0.000000        1.000000     0.000000       0.000000   \n",
       "75%       1.000000     0.000000        1.000000     0.000000       1.000000   \n",
       "max       1.000000     1.000000        1.000000     1.000000       1.000000   \n",
       "\n",
       "       web_traffic   URL_Length  age_of_domain  having_IP_Address       Result  \n",
       "count  1353.000000  1353.000000    1353.000000        1353.000000  1353.000000  \n",
       "mean      0.000000    -0.053215       0.219512           0.114560    -0.113821  \n",
       "std       0.806776     0.762552       0.975970           0.318608     0.954773  \n",
       "min      -1.000000    -1.000000      -1.000000           0.000000    -1.000000  \n",
       "25%      -1.000000    -1.000000      -1.000000           0.000000    -1.000000  \n",
       "50%       0.000000     0.000000       1.000000           0.000000    -1.000000  \n",
       "75%       1.000000     1.000000       1.000000           0.000000     1.000000  \n",
       "max       1.000000     1.000000       1.000000           1.000000     1.000000  "
      ]
     },
     "execution_count": 5,
     "metadata": {},
     "output_type": "execute_result"
    }
   ],
   "source": [
    "print(\"Dataset:: \")\n",
    "df.head()\n",
    "df.info()\n",
    "df.describe()"
   ]
  },
  {
   "cell_type": "code",
   "execution_count": 6,
   "metadata": {},
   "outputs": [
    {
     "data": {
      "text/html": [
       "<div>\n",
       "<style scoped>\n",
       "    .dataframe tbody tr th:only-of-type {\n",
       "        vertical-align: middle;\n",
       "    }\n",
       "\n",
       "    .dataframe tbody tr th {\n",
       "        vertical-align: top;\n",
       "    }\n",
       "\n",
       "    .dataframe thead th {\n",
       "        text-align: right;\n",
       "    }\n",
       "</style>\n",
       "<table border=\"1\" class=\"dataframe\">\n",
       "  <thead>\n",
       "    <tr style=\"text-align: right;\">\n",
       "      <th></th>\n",
       "      <th>SFH</th>\n",
       "      <th>popUpWidnow</th>\n",
       "      <th>SSLfinal_State</th>\n",
       "      <th>Request_URL</th>\n",
       "      <th>URL_of_Anchor</th>\n",
       "      <th>web_traffic</th>\n",
       "      <th>URL_Length</th>\n",
       "      <th>age_of_domain</th>\n",
       "      <th>having_IP_Address</th>\n",
       "      <th>Result</th>\n",
       "    </tr>\n",
       "  </thead>\n",
       "  <tbody>\n",
       "    <tr>\n",
       "      <td>0</td>\n",
       "      <td>1</td>\n",
       "      <td>-1</td>\n",
       "      <td>1</td>\n",
       "      <td>-1</td>\n",
       "      <td>-1</td>\n",
       "      <td>1</td>\n",
       "      <td>1</td>\n",
       "      <td>1</td>\n",
       "      <td>0</td>\n",
       "      <td>0</td>\n",
       "    </tr>\n",
       "    <tr>\n",
       "      <td>1</td>\n",
       "      <td>-1</td>\n",
       "      <td>-1</td>\n",
       "      <td>-1</td>\n",
       "      <td>-1</td>\n",
       "      <td>-1</td>\n",
       "      <td>0</td>\n",
       "      <td>1</td>\n",
       "      <td>1</td>\n",
       "      <td>1</td>\n",
       "      <td>0</td>\n",
       "    </tr>\n",
       "    <tr>\n",
       "      <td>2</td>\n",
       "      <td>1</td>\n",
       "      <td>-1</td>\n",
       "      <td>0</td>\n",
       "      <td>0</td>\n",
       "      <td>-1</td>\n",
       "      <td>0</td>\n",
       "      <td>-1</td>\n",
       "      <td>1</td>\n",
       "      <td>0</td>\n",
       "      <td>0</td>\n",
       "    </tr>\n",
       "    <tr>\n",
       "      <td>3</td>\n",
       "      <td>1</td>\n",
       "      <td>0</td>\n",
       "      <td>1</td>\n",
       "      <td>-1</td>\n",
       "      <td>-1</td>\n",
       "      <td>0</td>\n",
       "      <td>1</td>\n",
       "      <td>1</td>\n",
       "      <td>0</td>\n",
       "      <td>0</td>\n",
       "    </tr>\n",
       "    <tr>\n",
       "      <td>4</td>\n",
       "      <td>-1</td>\n",
       "      <td>-1</td>\n",
       "      <td>1</td>\n",
       "      <td>-1</td>\n",
       "      <td>0</td>\n",
       "      <td>0</td>\n",
       "      <td>-1</td>\n",
       "      <td>1</td>\n",
       "      <td>0</td>\n",
       "      <td>0</td>\n",
       "    </tr>\n",
       "  </tbody>\n",
       "</table>\n",
       "</div>"
      ],
      "text/plain": [
       "   SFH  popUpWidnow  SSLfinal_State  Request_URL  URL_of_Anchor  web_traffic  \\\n",
       "0    1           -1               1           -1             -1            1   \n",
       "1   -1           -1              -1           -1             -1            0   \n",
       "2    1           -1               0            0             -1            0   \n",
       "3    1            0               1           -1             -1            0   \n",
       "4   -1           -1               1           -1              0            0   \n",
       "\n",
       "   URL_Length  age_of_domain  having_IP_Address  Result  \n",
       "0           1              1                  0       0  \n",
       "1           1              1                  1       0  \n",
       "2          -1              1                  0       0  \n",
       "3           1              1                  0       0  \n",
       "4          -1              1                  0       0  "
      ]
     },
     "execution_count": 6,
     "metadata": {},
     "output_type": "execute_result"
    }
   ],
   "source": [
    "# Replacing the phishy class by the value 2\n",
    "# the classes were all non negative values\n",
    "#\n",
    "# we have 3 classes namely 0,1,-1\n",
    "# we combine 0 and 1 as 0 and -1 as 1\n",
    "df['Result'].replace((0, 1, -1), (0, 0, 1), inplace = True)\n",
    "df['Result'].value_counts()\n",
    "df.head()"
   ]
  },
  {
   "cell_type": "code",
   "execution_count": 9,
   "metadata": {},
   "outputs": [],
   "source": [
    "data_=df.values\n",
    "X1 = data_[:,0:-1] \n",
    "Y = data_[:,-1]\n",
    " \n",
    "\"\"\" MIN MAX SCALER \"\"\"\n",
    "min_max_scaler = preprocessing.MinMaxScaler(feature_range =(0, 1)) \n",
    "# Scaled feature \n",
    "X2 = min_max_scaler.fit_transform(X1) \n",
    "\n",
    "  \n",
    "\"\"\" Standardisation \"\"\" \n",
    "Standardisation = preprocessing.StandardScaler() \n",
    "# Scaled feature \n",
    "X = Standardisation.fit_transform(X2) \n",
    "\n",
    "#Spliting Dataset into Test and Train\n",
    "X_train, X_test, y_train, y_test=train_test_split(X,Y,test_size=0.2, random_state=0)\n",
    "#Applying Standard scaling to get optimized result"
   ]
  },
  {
   "cell_type": "code",
   "execution_count": 10,
   "metadata": {},
   "outputs": [],
   "source": [
    "###remove constant,\n",
    "constant_filter=VarianceThreshold(threshold=0.01)\n",
    "constant_filter.fit(X_train)\n",
    "X_train_filter=constant_filter.transform(X_train)\n",
    "X_test_filter=constant_filter.transform(X_test)"
   ]
  },
  {
   "cell_type": "code",
   "execution_count": 11,
   "metadata": {},
   "outputs": [],
   "source": [
    "##duplicate features\n",
    "X_train_T=X_train_filter.T\n",
    "X_test_T=X_test_filter.T"
   ]
  },
  {
   "cell_type": "code",
   "execution_count": 12,
   "metadata": {},
   "outputs": [],
   "source": [
    "X_train_T=pd.DataFrame(X_train_T)\n",
    "X_test_T=pd.DataFrame(X_test_T)"
   ]
  },
  {
   "cell_type": "code",
   "execution_count": 13,
   "metadata": {},
   "outputs": [
    {
     "data": {
      "text/plain": [
       "0"
      ]
     },
     "execution_count": 13,
     "metadata": {},
     "output_type": "execute_result"
    }
   ],
   "source": [
    "X_train_T.duplicated().sum()"
   ]
  },
  {
   "cell_type": "code",
   "execution_count": 14,
   "metadata": {},
   "outputs": [],
   "source": [
    "####we have duplicate features here\n",
    "duplicated_features=X_train_T.duplicated()"
   ]
  },
  {
   "cell_type": "code",
   "execution_count": 15,
   "metadata": {},
   "outputs": [],
   "source": [
    "features_to_keep=[not index for index in duplicated_features]"
   ]
  },
  {
   "cell_type": "code",
   "execution_count": 16,
   "metadata": {},
   "outputs": [],
   "source": [
    "X_train_=X_train_T[features_to_keep].T\n",
    "X_test_=X_test_T[features_to_keep].T"
   ]
  },
  {
   "cell_type": "code",
   "execution_count": 17,
   "metadata": {},
   "outputs": [
    {
     "data": {
      "text/plain": [
       "((1082, 9), (271, 9))"
      ]
     },
     "execution_count": 17,
     "metadata": {},
     "output_type": "execute_result"
    }
   ],
   "source": [
    "X_train_.shape,X_test_.shape"
   ]
  },
  {
   "cell_type": "code",
   "execution_count": 18,
   "metadata": {},
   "outputs": [
    {
     "name": "stdout",
     "output_type": "stream",
     "text": [
      "[[116  18]\n",
      " [ 22 115]]\n",
      "              precision    recall  f1-score   support\n",
      "\n",
      "           0       0.84      0.87      0.85       134\n",
      "           1       0.86      0.84      0.85       137\n",
      "\n",
      "    accuracy                           0.85       271\n",
      "   macro avg       0.85      0.85      0.85       271\n",
      "weighted avg       0.85      0.85      0.85       271\n",
      "\n"
     ]
    },
    {
     "data": {
      "text/plain": [
       "0.8523904846891607"
      ]
     },
     "execution_count": 18,
     "metadata": {},
     "output_type": "execute_result"
    }
   ],
   "source": [
    "#Decision Tree Classifier\n",
    "#Function to perform training with Entropy\n",
    "dt=DecisionTreeClassifier(criterion=\"entropy\", random_state=0)\n",
    "dt.fit(X_train_, y_train)\n",
    "# Function to make prediction\n",
    "y_pred_en=dt.predict(X_test_)\n",
    "#checking performance of the model\n",
    "print(confusion_matrix(y_test, y_pred_en))\n",
    "print(classification_report(y_test, y_pred_en))\n",
    "f1_score(y_test, y_pred_en, average='weighted')\n"
   ]
  },
  {
   "cell_type": "code",
   "execution_count": 19,
   "metadata": {},
   "outputs": [
    {
     "name": "stdout",
     "output_type": "stream",
     "text": [
      "[[119  15]\n",
      " [ 19 118]]\n",
      "              precision    recall  f1-score   support\n",
      "\n",
      "           0       0.86      0.89      0.88       134\n",
      "           1       0.89      0.86      0.87       137\n",
      "\n",
      "    accuracy                           0.87       271\n",
      "   macro avg       0.87      0.87      0.87       271\n",
      "weighted avg       0.87      0.87      0.87       271\n",
      "\n"
     ]
    },
    {
     "data": {
      "text/plain": [
       "0.8745319119857865"
      ]
     },
     "execution_count": 19,
     "metadata": {},
     "output_type": "execute_result"
    }
   ],
   "source": [
    "#Random Forest Classifier\n",
    "rfc=RandomForestClassifier(n_estimators=100, max_features=.2)\n",
    "rfc.fit(X_train_, y_train)\n",
    "predictionRF=rfc.predict(X_test_)\n",
    "#checking performance of the model\n",
    "print(confusion_matrix(y_test, predictionRF))\n",
    "print(classification_report(y_test, predictionRF))\n",
    "f1_score(y_test, predictionRF,average='weighted')\n"
   ]
  },
  {
   "cell_type": "code",
   "execution_count": 20,
   "metadata": {},
   "outputs": [
    {
     "data": {
      "text/plain": [
       "16.46207763315433"
      ]
     },
     "execution_count": 20,
     "metadata": {},
     "output_type": "execute_result"
    }
   ],
   "source": [
    "#define K\n",
    "import math\n",
    "math.sqrt(len(y_test))"
   ]
  },
  {
   "cell_type": "code",
   "execution_count": 21,
   "metadata": {},
   "outputs": [
    {
     "name": "stdout",
     "output_type": "stream",
     "text": [
      "[[112  22]\n",
      " [ 20 117]]\n",
      "              precision    recall  f1-score   support\n",
      "\n",
      "           0       0.85      0.84      0.84       134\n",
      "           1       0.84      0.85      0.85       137\n",
      "\n",
      "    accuracy                           0.85       271\n",
      "   macro avg       0.85      0.84      0.84       271\n",
      "weighted avg       0.85      0.85      0.84       271\n",
      "\n"
     ]
    },
    {
     "data": {
      "text/plain": [
       "0.8449973401335844"
      ]
     },
     "execution_count": 21,
     "metadata": {},
     "output_type": "execute_result"
    }
   ],
   "source": [
    "#K-NN classifier\n",
    "knn=KNeighborsClassifier(n_neighbors=15, p=2, metric='euclidean')\n",
    "\n",
    "#predict the test set results\n",
    "knn.fit(X_train_, y_train)\n",
    "predictionKNN=knn.predict(X_test_)\n",
    "#Evaluate model\n",
    "print(confusion_matrix(y_test, predictionKNN))\n",
    "print(classification_report(y_test, predictionKNN))\n",
    "f1_score(y_test, predictionKNN,average='weighted')"
   ]
  },
  {
   "cell_type": "code",
   "execution_count": 22,
   "metadata": {},
   "outputs": [
    {
     "name": "stdout",
     "output_type": "stream",
     "text": [
      "[[117  17]\n",
      " [ 21 116]]\n",
      "              precision    recall  f1-score   support\n",
      "\n",
      "           0       0.85      0.87      0.86       134\n",
      "           1       0.87      0.85      0.86       137\n",
      "\n",
      "    accuracy                           0.86       271\n",
      "   macro avg       0.86      0.86      0.86       271\n",
      "weighted avg       0.86      0.86      0.86       271\n",
      "\n"
     ]
    },
    {
     "name": "stderr",
     "output_type": "stream",
     "text": [
      "C:\\Users\\SARA\\Anaconda3\\lib\\site-packages\\sklearn\\svm\\base.py:193: FutureWarning: The default value of gamma will change from 'auto' to 'scale' in version 0.22 to account better for unscaled features. Set gamma explicitly to 'auto' or 'scale' to avoid this warning.\n",
      "  \"avoid this warning.\", FutureWarning)\n"
     ]
    },
    {
     "data": {
      "text/plain": [
       "0.8597709604547025"
      ]
     },
     "execution_count": 22,
     "metadata": {},
     "output_type": "execute_result"
    }
   ],
   "source": [
    "# svm Classifier\n",
    "clf=svm.SVC(kernel=\"rbf\", C=1)\n",
    "clf.fit(X_train_,y_train)\n",
    "predictionSVM=clf.predict(X_test_)\n",
    "\n",
    "#Evaluate model\n",
    "print(confusion_matrix(y_test, predictionSVM))\n",
    "print(classification_report(y_test, predictionSVM))\n",
    "f1_score(y_test, predictionSVM,average='weighted')\n",
    "#print(f'f1_score: {f1_score(y_test, predictionSVM,average='weighted', labels=np.unique(predictionSVM))}')"
   ]
  },
  {
   "cell_type": "code",
   "execution_count": 23,
   "metadata": {},
   "outputs": [
    {
     "name": "stdout",
     "output_type": "stream",
     "text": [
      "[[118  16]\n",
      " [ 16 121]]\n",
      "              precision    recall  f1-score   support\n",
      "\n",
      "           0       0.88      0.88      0.88       134\n",
      "           1       0.88      0.88      0.88       137\n",
      "\n",
      "    accuracy                           0.88       271\n",
      "   macro avg       0.88      0.88      0.88       271\n",
      "weighted avg       0.88      0.88      0.88       271\n",
      "\n"
     ]
    },
    {
     "data": {
      "text/plain": [
       "0.8819188191881919"
      ]
     },
     "execution_count": 23,
     "metadata": {},
     "output_type": "execute_result"
    }
   ],
   "source": [
    "#Bagging Classifier\n",
    "bg=BaggingClassifier(DecisionTreeClassifier(), max_samples=0.5, max_features=1.0, n_estimators=10)\n",
    "bg=BaggingClassifier()\n",
    "bg.fit(X_train_,y_train)\n",
    "predictionbg=bg.predict(X_test_)\n",
    "\n",
    "#Evaluate model\n",
    "print(confusion_matrix(y_test, predictionbg))\n",
    "print(classification_report(y_test, predictionbg))\n",
    "f1_score(y_test, predictionbg,average='weighted')"
   ]
  },
  {
   "cell_type": "code",
   "execution_count": 24,
   "metadata": {},
   "outputs": [
    {
     "name": "stdout",
     "output_type": "stream",
     "text": [
      "[[116  18]\n",
      " [ 19 118]]\n",
      "              precision    recall  f1-score   support\n",
      "\n",
      "           0       0.86      0.87      0.86       134\n",
      "           1       0.87      0.86      0.86       137\n",
      "\n",
      "    accuracy                           0.86       271\n",
      "   macro avg       0.86      0.86      0.86       271\n",
      "weighted avg       0.86      0.86      0.86       271\n",
      "\n"
     ]
    },
    {
     "data": {
      "text/plain": [
       "0.8634723530126759"
      ]
     },
     "execution_count": 24,
     "metadata": {},
     "output_type": "execute_result"
    }
   ],
   "source": [
    "#Boosting Classifier- Ada Boost\n",
    "adb=AdaBoostClassifier(DecisionTreeClassifier(), n_estimators=10, learning_rate=1)\n",
    "adb.fit(X_train_,y_train)\n",
    "predictionadb=adb.predict(X_test_)\n",
    "\n",
    "#Evaluate model\n",
    "print(confusion_matrix(y_test, predictionadb))\n",
    "print(classification_report(y_test, predictionadb))\n",
    "f1_score(y_test, predictionadb,average='weighted')"
   ]
  },
  {
   "cell_type": "code",
   "execution_count": 26,
   "metadata": {},
   "outputs": [
    {
     "name": "stdout",
     "output_type": "stream",
     "text": [
      "[[107  27]\n",
      " [ 25 112]]\n",
      "              precision    recall  f1-score   support\n",
      "\n",
      "           0       0.81      0.80      0.80       134\n",
      "           1       0.81      0.82      0.81       137\n",
      "\n",
      "    accuracy                           0.81       271\n",
      "   macro avg       0.81      0.81      0.81       271\n",
      "weighted avg       0.81      0.81      0.81       271\n",
      "\n"
     ]
    },
    {
     "data": {
      "text/plain": [
       "0.808091944927295"
      ]
     },
     "execution_count": 26,
     "metadata": {},
     "output_type": "execute_result"
    }
   ],
   "source": [
    "#Naive bayse Classifier\n",
    "nb=GaussianNB()\n",
    "nb.fit(X_train_,y_train)\n",
    "predictionnb=nb.predict(X_test_)\n",
    "\n",
    "#Evaluate model\n",
    "print(confusion_matrix(y_test, predictionnb))\n",
    "print(classification_report(y_test, predictionnb))\n",
    "f1_score(y_test, predictionnb,average='weighted', labels=np.unique(predictionnb))"
   ]
  },
  {
   "cell_type": "code",
   "execution_count": 27,
   "metadata": {},
   "outputs": [
    {
     "name": "stdout",
     "output_type": "stream",
     "text": [
      "[[118  16]\n",
      " [ 25 112]]\n",
      "              precision    recall  f1-score   support\n",
      "\n",
      "           0       0.83      0.88      0.85       134\n",
      "           1       0.88      0.82      0.85       137\n",
      "\n",
      "    accuracy                           0.85       271\n",
      "   macro avg       0.85      0.85      0.85       271\n",
      "weighted avg       0.85      0.85      0.85       271\n",
      "\n"
     ]
    },
    {
     "data": {
      "text/plain": [
       "0.8485971902835983"
      ]
     },
     "execution_count": 27,
     "metadata": {},
     "output_type": "execute_result"
    }
   ],
   "source": [
    "#creat Multilayer neural network Classifier\n",
    "nn=MLPClassifier(solver='lbfgs', alpha=1e-5,hidden_layer_sizes=(5, 2), random_state=1)\n",
    "nn.fit(X_train_,y_train)\n",
    "predictionNN=nn.predict(X_test_)\n",
    "\n",
    "#Evaluate model\n",
    "print(confusion_matrix(y_test, predictionNN))\n",
    "print(classification_report(y_test, predictionNN))\n",
    "f1_score(y_test, predictionNN,average='weighted', labels=np.unique(predictionNN))\n"
   ]
  },
  {
   "cell_type": "code",
   "execution_count": 28,
   "metadata": {},
   "outputs": [
    {
     "name": "stderr",
     "output_type": "stream",
     "text": [
      "C:\\Users\\SARA\\Anaconda3\\lib\\site-packages\\sklearn\\svm\\base.py:193: FutureWarning: The default value of gamma will change from 'auto' to 'scale' in version 0.22 to account better for unscaled features. Set gamma explicitly to 'auto' or 'scale' to avoid this warning.\n",
      "  \"avoid this warning.\", FutureWarning)\n"
     ]
    },
    {
     "name": "stdout",
     "output_type": "stream",
     "text": [
      "[[118  16]\n",
      " [ 20 117]]\n",
      "              precision    recall  f1-score   support\n",
      "\n",
      "           0       0.86      0.88      0.87       134\n",
      "           1       0.88      0.85      0.87       137\n",
      "\n",
      "    accuracy                           0.87       271\n",
      "   macro avg       0.87      0.87      0.87       271\n",
      "weighted avg       0.87      0.87      0.87       271\n",
      "\n"
     ]
    },
    {
     "data": {
      "text/plain": [
       "0.8671514362202446"
      ]
     },
     "execution_count": 28,
     "metadata": {},
     "output_type": "execute_result"
    }
   ],
   "source": [
    "#Voting Classifier- Multiple Model Ensemble\n",
    "evc=VotingClassifier(estimators=[('dt',dt),('rfc',rfc),('clf',clf),('knn',knn),('bg',bg),('adb',adb),('nb',nb),('nn',nn)], voting='hard')\n",
    "evc.fit(X_train_,y_train)\n",
    "predictionevc=evc.predict(X_test_)\n",
    "\n",
    "#Evaluate model\n",
    "print(confusion_matrix(y_test, predictionevc))\n",
    "print(classification_report(y_test, predictionevc))\n",
    "f1_score(y_test, predictionevc,average='weighted', labels=np.unique(predictionevc))"
   ]
  },
  {
   "cell_type": "code",
   "execution_count": 29,
   "metadata": {},
   "outputs": [],
   "source": [
    "#defining learning classifiers\n",
    "names=[\"Decision_Tree\", \"Random_Forest\", \"linear_SVM\",\"Nearest_Neighbors\",\"Bagging\",\"AdaBoost\",\"Naive_Bayes\",\"Neural_Net\",\"Vothing_classifier\"]\n",
    "classifiers = [dt,rfc,clf,knn,bg,adb,nb,nn,evc]"
   ]
  },
  {
   "cell_type": "code",
   "execution_count": 30,
   "metadata": {},
   "outputs": [
    {
     "name": "stderr",
     "output_type": "stream",
     "text": [
      "C:\\Users\\SARA\\Anaconda3\\lib\\site-packages\\sklearn\\svm\\base.py:193: FutureWarning: The default value of gamma will change from 'auto' to 'scale' in version 0.22 to account better for unscaled features. Set gamma explicitly to 'auto' or 'scale' to avoid this warning.\n",
      "  \"avoid this warning.\", FutureWarning)\n",
      "C:\\Users\\SARA\\Anaconda3\\lib\\site-packages\\sklearn\\svm\\base.py:193: FutureWarning: The default value of gamma will change from 'auto' to 'scale' in version 0.22 to account better for unscaled features. Set gamma explicitly to 'auto' or 'scale' to avoid this warning.\n",
      "  \"avoid this warning.\", FutureWarning)\n"
     ]
    }
   ],
   "source": [
    "#Build Model, Apply Model on Test Data & Record Accuracy Scores\n",
    "scores = []\n",
    "for name, clf in zip(names, classifiers):\n",
    "    clf.fit(X_train_, y_train)\n",
    "    prediction=clf.predict(X_test_)\n",
    "    score=f1_score(y_test, prediction,average='weighted', labels=np.unique(prediction))\n",
    "    scores.append(score)"
   ]
  },
  {
   "cell_type": "code",
   "execution_count": 31,
   "metadata": {},
   "outputs": [
    {
     "data": {
      "text/plain": [
       "[0.8523904846891607,\n",
       " 0.8819188191881919,\n",
       " 0.8597709604547025,\n",
       " 0.8449973401335844,\n",
       " 0.8671622892699515,\n",
       " 0.8671261088904604,\n",
       " 0.808091944927295,\n",
       " 0.8485971902835983,\n",
       " 0.8523623432116225]"
      ]
     },
     "execution_count": 31,
     "metadata": {},
     "output_type": "execute_result"
    }
   ],
   "source": [
    "scores"
   ]
  },
  {
   "cell_type": "code",
   "execution_count": 35,
   "metadata": {},
   "outputs": [
    {
     "data": {
      "text/html": [
       "<div>\n",
       "<style scoped>\n",
       "    .dataframe tbody tr th:only-of-type {\n",
       "        vertical-align: middle;\n",
       "    }\n",
       "\n",
       "    .dataframe tbody tr th {\n",
       "        vertical-align: top;\n",
       "    }\n",
       "\n",
       "    .dataframe thead th {\n",
       "        text-align: right;\n",
       "    }\n",
       "</style>\n",
       "<table border=\"1\" class=\"dataframe\">\n",
       "  <thead>\n",
       "    <tr style=\"text-align: right;\">\n",
       "      <th></th>\n",
       "      <th>Machine Learning algorithms</th>\n",
       "      <th>F-measure of Website Phishing</th>\n",
       "    </tr>\n",
       "  </thead>\n",
       "  <tbody>\n",
       "    <tr>\n",
       "      <td>0</td>\n",
       "      <td>Decision_Tree</td>\n",
       "      <td>0.852390</td>\n",
       "    </tr>\n",
       "    <tr>\n",
       "      <td>1</td>\n",
       "      <td>Random_Forest</td>\n",
       "      <td>0.881919</td>\n",
       "    </tr>\n",
       "    <tr>\n",
       "      <td>2</td>\n",
       "      <td>linear_SVM</td>\n",
       "      <td>0.859771</td>\n",
       "    </tr>\n",
       "    <tr>\n",
       "      <td>3</td>\n",
       "      <td>Nearest_Neighbors</td>\n",
       "      <td>0.844997</td>\n",
       "    </tr>\n",
       "    <tr>\n",
       "      <td>4</td>\n",
       "      <td>Bagging</td>\n",
       "      <td>0.867162</td>\n",
       "    </tr>\n",
       "    <tr>\n",
       "      <td>5</td>\n",
       "      <td>AdaBoost</td>\n",
       "      <td>0.867126</td>\n",
       "    </tr>\n",
       "    <tr>\n",
       "      <td>6</td>\n",
       "      <td>Naive_Bayes</td>\n",
       "      <td>0.808092</td>\n",
       "    </tr>\n",
       "    <tr>\n",
       "      <td>7</td>\n",
       "      <td>Neural_Net</td>\n",
       "      <td>0.848597</td>\n",
       "    </tr>\n",
       "    <tr>\n",
       "      <td>8</td>\n",
       "      <td>Vothing_classifier</td>\n",
       "      <td>0.852362</td>\n",
       "    </tr>\n",
       "  </tbody>\n",
       "</table>\n",
       "</div>"
      ],
      "text/plain": [
       "  Machine Learning algorithms  F-measure of Website Phishing\n",
       "0               Decision_Tree                       0.852390\n",
       "1               Random_Forest                       0.881919\n",
       "2                  linear_SVM                       0.859771\n",
       "3           Nearest_Neighbors                       0.844997\n",
       "4                     Bagging                       0.867162\n",
       "5                    AdaBoost                       0.867126\n",
       "6                 Naive_Bayes                       0.808092\n",
       "7                  Neural_Net                       0.848597\n",
       "8          Vothing_classifier                       0.852362"
      ]
     },
     "execution_count": 35,
     "metadata": {},
     "output_type": "execute_result"
    }
   ],
   "source": [
    "#create data frame of model performance\n",
    "df = pd.DataFrame()\n",
    "df['Machine Learning algorithms'] = names\n",
    "df['F-measure of Website Phishing'] = scores \n",
    "df"
   ]
  },
  {
   "cell_type": "code",
   "execution_count": 39,
   "metadata": {},
   "outputs": [
    {
     "data": {
      "text/html": [
       "<style  type=\"text/css\" >\n",
       "    #T_48a7c6a8_1e0a_11eb_b2ad_d053490e15f2row0_col1 {\n",
       "            background-color:  #86b1a3;\n",
       "            color:  #000000;\n",
       "        }    #T_48a7c6a8_1e0a_11eb_b2ad_d053490e15f2row1_col1 {\n",
       "            background-color:  #40826d;\n",
       "            color:  #000000;\n",
       "        }    #T_48a7c6a8_1e0a_11eb_b2ad_d053490e15f2row2_col1 {\n",
       "            background-color:  #74a595;\n",
       "            color:  #000000;\n",
       "        }    #T_48a7c6a8_1e0a_11eb_b2ad_d053490e15f2row3_col1 {\n",
       "            background-color:  #97bdb1;\n",
       "            color:  #000000;\n",
       "        }    #T_48a7c6a8_1e0a_11eb_b2ad_d053490e15f2row4_col1 {\n",
       "            background-color:  #639988;\n",
       "            color:  #000000;\n",
       "        }    #T_48a7c6a8_1e0a_11eb_b2ad_d053490e15f2row5_col1 {\n",
       "            background-color:  #639988;\n",
       "            color:  #000000;\n",
       "        }    #T_48a7c6a8_1e0a_11eb_b2ad_d053490e15f2row6_col1 {\n",
       "            background-color:  #eef7f4;\n",
       "            color:  #000000;\n",
       "        }    #T_48a7c6a8_1e0a_11eb_b2ad_d053490e15f2row7_col1 {\n",
       "            background-color:  #8eb7aa;\n",
       "            color:  #000000;\n",
       "        }    #T_48a7c6a8_1e0a_11eb_b2ad_d053490e15f2row8_col1 {\n",
       "            background-color:  #86b1a3;\n",
       "            color:  #000000;\n",
       "        }</style><table id=\"T_48a7c6a8_1e0a_11eb_b2ad_d053490e15f2\" ><thead>    <tr>        <th class=\"blank level0\" ></th>        <th class=\"col_heading level0 col0\" >Machine Learning algorithms</th>        <th class=\"col_heading level0 col1\" >F-measure of Website Phishing</th>    </tr></thead><tbody>\n",
       "                <tr>\n",
       "                        <th id=\"T_48a7c6a8_1e0a_11eb_b2ad_d053490e15f2level0_row0\" class=\"row_heading level0 row0\" >0</th>\n",
       "                        <td id=\"T_48a7c6a8_1e0a_11eb_b2ad_d053490e15f2row0_col0\" class=\"data row0 col0\" >Decision_Tree</td>\n",
       "                        <td id=\"T_48a7c6a8_1e0a_11eb_b2ad_d053490e15f2row0_col1\" class=\"data row0 col1\" >0.85239</td>\n",
       "            </tr>\n",
       "            <tr>\n",
       "                        <th id=\"T_48a7c6a8_1e0a_11eb_b2ad_d053490e15f2level0_row1\" class=\"row_heading level0 row1\" >1</th>\n",
       "                        <td id=\"T_48a7c6a8_1e0a_11eb_b2ad_d053490e15f2row1_col0\" class=\"data row1 col0\" >Random_Forest</td>\n",
       "                        <td id=\"T_48a7c6a8_1e0a_11eb_b2ad_d053490e15f2row1_col1\" class=\"data row1 col1\" >0.881919</td>\n",
       "            </tr>\n",
       "            <tr>\n",
       "                        <th id=\"T_48a7c6a8_1e0a_11eb_b2ad_d053490e15f2level0_row2\" class=\"row_heading level0 row2\" >2</th>\n",
       "                        <td id=\"T_48a7c6a8_1e0a_11eb_b2ad_d053490e15f2row2_col0\" class=\"data row2 col0\" >linear_SVM</td>\n",
       "                        <td id=\"T_48a7c6a8_1e0a_11eb_b2ad_d053490e15f2row2_col1\" class=\"data row2 col1\" >0.859771</td>\n",
       "            </tr>\n",
       "            <tr>\n",
       "                        <th id=\"T_48a7c6a8_1e0a_11eb_b2ad_d053490e15f2level0_row3\" class=\"row_heading level0 row3\" >3</th>\n",
       "                        <td id=\"T_48a7c6a8_1e0a_11eb_b2ad_d053490e15f2row3_col0\" class=\"data row3 col0\" >Nearest_Neighbors</td>\n",
       "                        <td id=\"T_48a7c6a8_1e0a_11eb_b2ad_d053490e15f2row3_col1\" class=\"data row3 col1\" >0.844997</td>\n",
       "            </tr>\n",
       "            <tr>\n",
       "                        <th id=\"T_48a7c6a8_1e0a_11eb_b2ad_d053490e15f2level0_row4\" class=\"row_heading level0 row4\" >4</th>\n",
       "                        <td id=\"T_48a7c6a8_1e0a_11eb_b2ad_d053490e15f2row4_col0\" class=\"data row4 col0\" >Bagging</td>\n",
       "                        <td id=\"T_48a7c6a8_1e0a_11eb_b2ad_d053490e15f2row4_col1\" class=\"data row4 col1\" >0.867162</td>\n",
       "            </tr>\n",
       "            <tr>\n",
       "                        <th id=\"T_48a7c6a8_1e0a_11eb_b2ad_d053490e15f2level0_row5\" class=\"row_heading level0 row5\" >5</th>\n",
       "                        <td id=\"T_48a7c6a8_1e0a_11eb_b2ad_d053490e15f2row5_col0\" class=\"data row5 col0\" >AdaBoost</td>\n",
       "                        <td id=\"T_48a7c6a8_1e0a_11eb_b2ad_d053490e15f2row5_col1\" class=\"data row5 col1\" >0.867126</td>\n",
       "            </tr>\n",
       "            <tr>\n",
       "                        <th id=\"T_48a7c6a8_1e0a_11eb_b2ad_d053490e15f2level0_row6\" class=\"row_heading level0 row6\" >6</th>\n",
       "                        <td id=\"T_48a7c6a8_1e0a_11eb_b2ad_d053490e15f2row6_col0\" class=\"data row6 col0\" >Naive_Bayes</td>\n",
       "                        <td id=\"T_48a7c6a8_1e0a_11eb_b2ad_d053490e15f2row6_col1\" class=\"data row6 col1\" >0.808092</td>\n",
       "            </tr>\n",
       "            <tr>\n",
       "                        <th id=\"T_48a7c6a8_1e0a_11eb_b2ad_d053490e15f2level0_row7\" class=\"row_heading level0 row7\" >7</th>\n",
       "                        <td id=\"T_48a7c6a8_1e0a_11eb_b2ad_d053490e15f2row7_col0\" class=\"data row7 col0\" >Neural_Net</td>\n",
       "                        <td id=\"T_48a7c6a8_1e0a_11eb_b2ad_d053490e15f2row7_col1\" class=\"data row7 col1\" >0.848597</td>\n",
       "            </tr>\n",
       "            <tr>\n",
       "                        <th id=\"T_48a7c6a8_1e0a_11eb_b2ad_d053490e15f2level0_row8\" class=\"row_heading level0 row8\" >8</th>\n",
       "                        <td id=\"T_48a7c6a8_1e0a_11eb_b2ad_d053490e15f2row8_col0\" class=\"data row8 col0\" >Vothing_classifier</td>\n",
       "                        <td id=\"T_48a7c6a8_1e0a_11eb_b2ad_d053490e15f2row8_col1\" class=\"data row8 col1\" >0.852362</td>\n",
       "            </tr>\n",
       "    </tbody></table>"
      ],
      "text/plain": [
       "<pandas.io.formats.style.Styler at 0x1c8325d0d88>"
      ]
     },
     "execution_count": 39,
     "metadata": {},
     "output_type": "execute_result"
    }
   ],
   "source": [
    "#adding colors to the data frame\n",
    "cm = sns.light_palette('#40826D', as_cmap=True)\n",
    "s = df.style.background_gradient(cmap=cm)\n",
    "s"
   ]
  },
  {
   "cell_type": "code",
   "execution_count": 40,
   "metadata": {},
   "outputs": [
    {
     "data": {
      "image/png": "[encoded data removed]",
      "text/plain": [
       "<Figure size 432x288 with 1 Axes>"
      ]
     },
     "metadata": {},
     "output_type": "display_data"
    }
   ],
   "source": [
    "#Bar plot of model performance\n",
    "sns.set(style=\"whitegrid\")\n",
    "ax = sns.barplot(y=\"Machine Learning algorithms\", x=\"F-measure of Website Phishing\", data=df)\n"
   ]
  }
 ],
 "metadata": {
  "kernelspec": {
   "display_name": "Python 3",
   "language": "python",
   "name": "python3"
  },
  "language_info": {
   "codemirror_mode": {
    "name": "ipython",
    "version": 3
   },
   "file_extension": ".py",
   "mimetype": "text/x-python",
   "name": "python",
   "nbconvert_exporter": "python",
   "pygments_lexer": "ipython3",
   "version": "3.7.4"
  },
  "widgets": {
   "application/vnd.jupyter.widget-state+json": {
    "state": {},
    "version_major": 2,
    "version_minor": 0
   }
  }
 },
 "nbformat": 4,
 "nbformat_minor": 2
}
